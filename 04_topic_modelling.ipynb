{
 "cells": [
  {
   "attachments": {},
   "cell_type": "markdown",
   "metadata": {},
   "source": [
    "# Topic Modelling Notebook "
   ]
  },
  {
   "cell_type": "code",
   "execution_count": 22,
   "metadata": {},
   "outputs": [
    {
     "name": "stdout",
     "output_type": "stream",
     "text": [
      "INFO: Pandarallel will run on 10 workers.\n",
      "INFO: Pandarallel will use standard multiprocessing data transfer (pipe) to transfer data between the main process and workers.\n"
     ]
    }
   ],
   "source": [
    "# Utilities\n",
    "from joblib import Parallel, delayed\n",
    "from pandarallel import pandarallel\n",
    "pandarallel.initialize(progress_bar=True)\n",
    "from multiprocessing import Pool, cpu_count\n",
    "import warnings \n",
    "warnings.filterwarnings(\"ignore\")\n",
    "import os\n",
    "import pandas as pd\n",
    "import numpy as np\n",
    "import tqdm\n",
    "from tqdm import tqdm\n",
    "tqdm.pandas(desc=\"progress bar\")\n",
    "import gc\n",
    "os.environ['TOKENIZERS_PARALLELISM'] = 'true'\n",
    "\n",
    "# Import time packages \n",
    "import time\n",
    "import datetime\n",
    "\n",
    "# Visualization Tools\n",
    "import matplotlib.pyplot as plt\n",
    "\n",
    "# Deep Learning Models \n",
    "import torch\n",
    "import tensorflow as tf\n",
    "\n",
    "# Topic Modelling Packages\n",
    "from bertopic import BERTopic\n"
   ]
  },
  {
   "cell_type": "code",
   "execution_count": 2,
   "metadata": {},
   "outputs": [],
   "source": [
    "from utils import search_folder\n",
    "current_dir = os.getcwd()\n",
    "thesis_folder_path = current_dir.replace(\"thesis_code\", \"\")\n",
    "twitter_data_path = search_folder(thesis_folder_path,\"twitter_data\")\n",
    "eikon_data_path = search_folder(thesis_folder_path,\"eikon_news\")\n",
    "stock_data_path = search_folder(thesis_folder_path,\"stock_prices\")\n",
    "modelling_data_path = search_folder(thesis_folder_path,\"modelling_data\")\n",
    "google_trending_path = search_folder(thesis_folder_path,\"google_search\")"
   ]
  },
  {
   "cell_type": "code",
   "execution_count": 3,
   "metadata": {},
   "outputs": [],
   "source": [
    "# Retrieving sentiment on cleaned text\n",
    "twitter_df = pd.read_csv(twitter_data_path +\"/twitter_senti_df.csv\")\n",
    "twitter_df[\"datetime\"] = pd.to_datetime(twitter_df[\"datetime\"])\n",
    "twitter_df =twitter_df.sort_values(by = \"datetime\")\n",
    "twitter_df = twitter_df.drop_duplicates()"
   ]
  },
  {
   "cell_type": "code",
   "execution_count": 4,
   "metadata": {},
   "outputs": [],
   "source": [
    "# Retrieving Sentiment on Eikon Raw News \n",
    "eikon_df = pd.read_csv(eikon_data_path +\"/raw_eikon_senti_df.csv\")\n",
    "eikon_df[\"datetime\"] = pd.to_datetime(eikon_df[\"datetime\"])\n",
    "eikon_df =eikon_df.sort_values(by = \"datetime\")"
   ]
  },
  {
   "cell_type": "code",
   "execution_count": 5,
   "metadata": {},
   "outputs": [
    {
     "name": "stdout",
     "output_type": "stream",
     "text": [
      "(2157988, 21)\n",
      "(44423, 16)\n"
     ]
    }
   ],
   "source": [
    "print(twitter_df.shape)\n",
    "print(eikon_df.shape)"
   ]
  },
  {
   "cell_type": "code",
   "execution_count": 10,
   "metadata": {},
   "outputs": [
    {
     "name": "stderr",
     "output_type": "stream",
     "text": [
      "progress bar: 100%|██████████| 2157988/2157988 [00:05<00:00, 430345.30it/s]\n",
      "progress bar: 100%|██████████| 44423/44423 [00:00<00:00, 570006.02it/s]\n"
     ]
    }
   ],
   "source": [
    "# Tweets on Saturday and Sunday are moved to Monday in order to not losse any relevance\n",
    "from utils import fix_dates\n",
    "twitter_df[\"datetime\"] = twitter_df[\"datetime\"].progress_apply(lambda x: fix_dates(x))\n",
    "eikon_df[\"datetime\"] = eikon_df[\"datetime\"].progress_apply(lambda x: fix_dates(x))"
   ]
  },
  {
   "cell_type": "code",
   "execution_count": 11,
   "metadata": {},
   "outputs": [],
   "source": [
    "twitter_topics_df = twitter_df.copy()\n",
    "# Convert float values to strings\n",
    "twitter_topics_df[\"date\"] = twitter_topics_df[\"datetime\"].dt.date\n",
    "twitter_topics_df[\"text\"] = twitter_topics_df[\"text\"].astype(str)\n",
    "twitter_topics_df[\"cleaned_text\"] = twitter_topics_df[\"cleaned_text\"].astype(str)\n",
    "\n",
    "# Group the rows by \"date\" and \"company\" columns and concatenate the text values\n",
    "twitter_topics_df = twitter_topics_df[[\"date\", \"company\", \"text\", \"cleaned_text\"]]\n",
    "twitter_topics_df = twitter_topics_df.groupby([\"date\", \"company\"]).agg({\n",
    "    \"text\": ' '.join,\n",
    "    \"cleaned_text\": ' '.join\n",
    "}).reset_index()\n"
   ]
  },
  {
   "cell_type": "code",
   "execution_count": 12,
   "metadata": {},
   "outputs": [],
   "source": [
    "eikon_topics_df = eikon_df.copy()\n",
    "# Convert float values to strings\n",
    "eikon_topics_df[\"date\"] = eikon_topics_df[\"datetime\"].dt.date\n",
    "eikon_topics_df[\"text\"] = eikon_topics_df[\"text\"].astype(str)\n",
    "eikon_topics_df[\"cleaned_text\"] = eikon_topics_df[\"cleaned_text\"].astype(str)\n",
    "\n",
    "# Group the rows by \"date\" and \"company\" columns and concatenate the text values\n",
    "eikon_topics_df = eikon_topics_df[[\"date\", \"company\", \"text\", \"cleaned_text\"]]\n",
    "eikon_topics_df = eikon_topics_df.groupby([\"date\", \"company\"]).agg({\n",
    "    \"text\": ' '.join,\n",
    "    \"cleaned_text\": ' '.join\n",
    "}).reset_index()\n"
   ]
  },
  {
   "attachments": {},
   "cell_type": "markdown",
   "metadata": {},
   "source": [
    "---\n",
    "## Dynamic Modelling Introduction \n",
    "\n",
    "Dynamic topic modeling (DTM) is a collection of techniques aimed at analyzing the evolution of topics over time. These methods allow to understand how a topic is represented across different times. For example, in 1995 people may talk differently about environmental awareness than those in 2015. Although the topic itself remains the same, environmental awareness, the exact representation of that topic might differ."
   ]
  },
  {
   "cell_type": "code",
   "execution_count": 107,
   "metadata": {},
   "outputs": [],
   "source": [
    "subest_twitter_topics_df = eikon_topics_df[eikon_topics_df[\"company\"] == \"apple\"]"
   ]
  },
  {
   "cell_type": "code",
   "execution_count": 108,
   "metadata": {},
   "outputs": [],
   "source": [
    "timestamps = subest_twitter_topics_df.date.to_list()\n",
    "timestamps = pd.to_datetime(timestamps)\n",
    "tweets = subest_twitter_topics_df.cleaned_text.to_list()"
   ]
  },
  {
   "attachments": {},
   "cell_type": "markdown",
   "metadata": {},
   "source": [
    "Then, we need to extract the global topic representations by simply creating and training a BERTopic model:"
   ]
  },
  {
   "cell_type": "code",
   "execution_count": 120,
   "metadata": {},
   "outputs": [
    {
     "data": {
      "application/vnd.jupyter.widget-view+json": {
       "model_id": "80246e9f66be49ef9d4bc419c67a7a80",
       "version_major": 2,
       "version_minor": 0
      },
      "text/plain": [
       "Batches:   0%|          | 0/51 [00:00<?, ?it/s]"
      ]
     },
     "metadata": {},
     "output_type": "display_data"
    },
    {
     "name": "stderr",
     "output_type": "stream",
     "text": [
      "2023-05-14 18:43:49,081 - BERTopic - Transformed documents to Embeddings\n",
      "2023-05-14 18:43:52,611 - BERTopic - Reduced dimensionality\n",
      "2023-05-14 18:43:52,650 - BERTopic - Clustered reduced embeddings\n"
     ]
    }
   ],
   "source": [
    "from bertopic import BERTopic\n",
    "\n",
    "topic_model = BERTopic(verbose=True)\n",
    "topics, probs = topic_model.fit_transform(tweets)"
   ]
  },
  {
   "attachments": {},
   "cell_type": "markdown",
   "metadata": {},
   "source": [
    "From these topics, we are going to generate the topic representations at each timestamp for each topic. We do this by simply calling topics_over_time and passing the tweets, the corresponding timestamps, and the related topics:"
   ]
  },
  {
   "cell_type": "code",
   "execution_count": 121,
   "metadata": {},
   "outputs": [
    {
     "name": "stderr",
     "output_type": "stream",
     "text": [
      "10it [00:00, 24.98it/s]\n"
     ]
    }
   ],
   "source": [
    "topics_over_time_eikon = topic_model.topics_over_time(tweets, timestamps, nr_bins=10)"
   ]
  },
  {
   "cell_type": "code",
   "execution_count": 97,
   "metadata": {},
   "outputs": [
    {
     "data": {
      "text/html": [
       "<div>\n",
       "<style scoped>\n",
       "    .dataframe tbody tr th:only-of-type {\n",
       "        vertical-align: middle;\n",
       "    }\n",
       "\n",
       "    .dataframe tbody tr th {\n",
       "        vertical-align: top;\n",
       "    }\n",
       "\n",
       "    .dataframe thead th {\n",
       "        text-align: right;\n",
       "    }\n",
       "</style>\n",
       "<table border=\"1\" class=\"dataframe\">\n",
       "  <thead>\n",
       "    <tr style=\"text-align: right;\">\n",
       "      <th></th>\n",
       "      <th>Topic</th>\n",
       "      <th>Words</th>\n",
       "      <th>Frequency</th>\n",
       "      <th>Timestamp</th>\n",
       "      <th>Name</th>\n",
       "    </tr>\n",
       "  </thead>\n",
       "  <tbody>\n",
       "    <tr>\n",
       "      <th>0</th>\n",
       "      <td>-1</td>\n",
       "      <td>apple, to, the, in, for</td>\n",
       "      <td>101</td>\n",
       "      <td>2016-12-30 16:58:04.800</td>\n",
       "      <td>-1_apple_the_to_in</td>\n",
       "    </tr>\n",
       "    <tr>\n",
       "      <th>1</th>\n",
       "      <td>0</td>\n",
       "      <td>apple, to, the, in, iphone</td>\n",
       "      <td>36</td>\n",
       "      <td>2016-12-30 16:58:04.800</td>\n",
       "      <td>0_apple_the_to_in</td>\n",
       "    </tr>\n",
       "    <tr>\n",
       "      <th>2</th>\n",
       "      <td>2</td>\n",
       "      <td>apple, to, the, in, for</td>\n",
       "      <td>9</td>\n",
       "      <td>2016-12-30 16:58:04.800</td>\n",
       "      <td>2_apple_the_to_in</td>\n",
       "    </tr>\n",
       "    <tr>\n",
       "      <th>3</th>\n",
       "      <td>7</td>\n",
       "      <td>apple, tesla, baba, spy, meta</td>\n",
       "      <td>2</td>\n",
       "      <td>2016-12-30 16:58:04.800</td>\n",
       "      <td>7_meta_tesla_cei_baba</td>\n",
       "    </tr>\n",
       "    <tr>\n",
       "      <th>4</th>\n",
       "      <td>8</td>\n",
       "      <td>apple, to, the, in, of</td>\n",
       "      <td>2</td>\n",
       "      <td>2016-12-30 16:58:04.800</td>\n",
       "      <td>8_apple_the_to_and</td>\n",
       "    </tr>\n",
       "    <tr>\n",
       "      <th>...</th>\n",
       "      <td>...</td>\n",
       "      <td>...</td>\n",
       "      <td>...</td>\n",
       "      <td>...</td>\n",
       "      <td>...</td>\n",
       "    </tr>\n",
       "    <tr>\n",
       "      <th>147</th>\n",
       "      <td>14</td>\n",
       "      <td>blk, coin, crm, cei, moderna</td>\n",
       "      <td>2</td>\n",
       "      <td>2022-08-27 16:48:00.000</td>\n",
       "      <td>14_apple_the_to_tesla</td>\n",
       "    </tr>\n",
       "    <tr>\n",
       "      <th>148</th>\n",
       "      <td>15</td>\n",
       "      <td>apple, blk, meta, the, coin</td>\n",
       "      <td>2</td>\n",
       "      <td>2022-08-27 16:48:00.000</td>\n",
       "      <td>15_apple_the_to_in</td>\n",
       "    </tr>\n",
       "    <tr>\n",
       "      <th>149</th>\n",
       "      <td>17</td>\n",
       "      <td>apple, the, iphone, 14, to</td>\n",
       "      <td>4</td>\n",
       "      <td>2022-08-27 16:48:00.000</td>\n",
       "      <td>17_apple_iphone_the_to</td>\n",
       "    </tr>\n",
       "    <tr>\n",
       "      <th>150</th>\n",
       "      <td>19</td>\n",
       "      <td>apple, the, to, musk, and</td>\n",
       "      <td>2</td>\n",
       "      <td>2022-08-27 16:48:00.000</td>\n",
       "      <td>19_apple_the_to_and</td>\n",
       "    </tr>\n",
       "    <tr>\n",
       "      <th>151</th>\n",
       "      <td>21</td>\n",
       "      <td>apple, tesla, the, to, for</td>\n",
       "      <td>1</td>\n",
       "      <td>2022-08-27 16:48:00.000</td>\n",
       "      <td>21_apple_to_the_in</td>\n",
       "    </tr>\n",
       "  </tbody>\n",
       "</table>\n",
       "<p>152 rows × 5 columns</p>\n",
       "</div>"
      ],
      "text/plain": [
       "     Topic                          Words  Frequency               Timestamp  \\\n",
       "0       -1        apple, to, the, in, for        101 2016-12-30 16:58:04.800   \n",
       "1        0     apple, to, the, in, iphone         36 2016-12-30 16:58:04.800   \n",
       "2        2        apple, to, the, in, for          9 2016-12-30 16:58:04.800   \n",
       "3        7  apple, tesla, baba, spy, meta          2 2016-12-30 16:58:04.800   \n",
       "4        8         apple, to, the, in, of          2 2016-12-30 16:58:04.800   \n",
       "..     ...                            ...        ...                     ...   \n",
       "147     14   blk, coin, crm, cei, moderna          2 2022-08-27 16:48:00.000   \n",
       "148     15    apple, blk, meta, the, coin          2 2022-08-27 16:48:00.000   \n",
       "149     17     apple, the, iphone, 14, to          4 2022-08-27 16:48:00.000   \n",
       "150     19      apple, the, to, musk, and          2 2022-08-27 16:48:00.000   \n",
       "151     21     apple, tesla, the, to, for          1 2022-08-27 16:48:00.000   \n",
       "\n",
       "                       Name  \n",
       "0        -1_apple_the_to_in  \n",
       "1         0_apple_the_to_in  \n",
       "2         2_apple_the_to_in  \n",
       "3     7_meta_tesla_cei_baba  \n",
       "4        8_apple_the_to_and  \n",
       "..                      ...  \n",
       "147   14_apple_the_to_tesla  \n",
       "148      15_apple_the_to_in  \n",
       "149  17_apple_iphone_the_to  \n",
       "150     19_apple_the_to_and  \n",
       "151      21_apple_to_the_in  \n",
       "\n",
       "[152 rows x 5 columns]"
      ]
     },
     "execution_count": 97,
     "metadata": {},
     "output_type": "execute_result"
    }
   ],
   "source": [
    "topics_over_time"
   ]
  },
  {
   "cell_type": "code",
   "execution_count": 111,
   "metadata": {},
   "outputs": [
    {
     "data": {
      "text/html": [
       "<div>\n",
       "<style scoped>\n",
       "    .dataframe tbody tr th:only-of-type {\n",
       "        vertical-align: middle;\n",
       "    }\n",
       "\n",
       "    .dataframe tbody tr th {\n",
       "        vertical-align: top;\n",
       "    }\n",
       "\n",
       "    .dataframe thead th {\n",
       "        text-align: right;\n",
       "    }\n",
       "</style>\n",
       "<table border=\"1\" class=\"dataframe\">\n",
       "  <thead>\n",
       "    <tr style=\"text-align: right;\">\n",
       "      <th></th>\n",
       "      <th>Topic</th>\n",
       "      <th>Words</th>\n",
       "      <th>Frequency</th>\n",
       "      <th>Timestamp</th>\n",
       "    </tr>\n",
       "  </thead>\n",
       "  <tbody>\n",
       "    <tr>\n",
       "      <th>0</th>\n",
       "      <td>-1</td>\n",
       "      <td>apple, inc, rating, to, price</td>\n",
       "      <td>70</td>\n",
       "      <td>2016-12-30 17:08:09.600</td>\n",
       "    </tr>\n",
       "    <tr>\n",
       "      <th>1</th>\n",
       "      <td>0</td>\n",
       "      <td>of, apple, update, fixing, regulator</td>\n",
       "      <td>9</td>\n",
       "      <td>2016-12-30 17:08:09.600</td>\n",
       "    </tr>\n",
       "    <tr>\n",
       "      <th>2</th>\n",
       "      <td>2</td>\n",
       "      <td>dissolves, share, stake, inc, appaloosa</td>\n",
       "      <td>1</td>\n",
       "      <td>2016-12-30 17:08:09.600</td>\n",
       "    </tr>\n",
       "    <tr>\n",
       "      <th>3</th>\n",
       "      <td>3</td>\n",
       "      <td>rating, apple, inc, updated, for</td>\n",
       "      <td>39</td>\n",
       "      <td>2016-12-30 17:08:09.600</td>\n",
       "    </tr>\n",
       "    <tr>\n",
       "      <th>4</th>\n",
       "      <td>4</td>\n",
       "      <td>q1, assortment, sort, star, hidden</td>\n",
       "      <td>2</td>\n",
       "      <td>2016-12-30 17:08:09.600</td>\n",
       "    </tr>\n",
       "    <tr>\n",
       "      <th>...</th>\n",
       "      <td>...</td>\n",
       "      <td>...</td>\n",
       "      <td>...</td>\n",
       "      <td>...</td>\n",
       "    </tr>\n",
       "    <tr>\n",
       "      <th>112</th>\n",
       "      <td>4</td>\n",
       "      <td>gigabit, to, apple, biden, earnings</td>\n",
       "      <td>3</td>\n",
       "      <td>2022-08-21 09:36:00.000</td>\n",
       "    </tr>\n",
       "    <tr>\n",
       "      <th>113</th>\n",
       "      <td>5</td>\n",
       "      <td>the, stocks, apple, buzz, on</td>\n",
       "      <td>10</td>\n",
       "      <td>2022-08-21 09:36:00.000</td>\n",
       "    </tr>\n",
       "    <tr>\n",
       "      <th>114</th>\n",
       "      <td>6</td>\n",
       "      <td>benefit, others, earnings, preview, lawsuit</td>\n",
       "      <td>1</td>\n",
       "      <td>2022-08-21 09:36:00.000</td>\n",
       "    </tr>\n",
       "    <tr>\n",
       "      <th>115</th>\n",
       "      <td>9</td>\n",
       "      <td>microsoft, favourable, perseverance, platforme...</td>\n",
       "      <td>1</td>\n",
       "      <td>2022-08-21 09:36:00.000</td>\n",
       "    </tr>\n",
       "    <tr>\n",
       "      <th>116</th>\n",
       "      <td>11</td>\n",
       "      <td>india, to, apple, in, supplier</td>\n",
       "      <td>8</td>\n",
       "      <td>2022-08-21 09:36:00.000</td>\n",
       "    </tr>\n",
       "  </tbody>\n",
       "</table>\n",
       "<p>117 rows × 4 columns</p>\n",
       "</div>"
      ],
      "text/plain": [
       "     Topic                                              Words  Frequency  \\\n",
       "0       -1                      apple, inc, rating, to, price         70   \n",
       "1        0               of, apple, update, fixing, regulator          9   \n",
       "2        2            dissolves, share, stake, inc, appaloosa          1   \n",
       "3        3                   rating, apple, inc, updated, for         39   \n",
       "4        4                 q1, assortment, sort, star, hidden          2   \n",
       "..     ...                                                ...        ...   \n",
       "112      4                gigabit, to, apple, biden, earnings          3   \n",
       "113      5                       the, stocks, apple, buzz, on         10   \n",
       "114      6        benefit, others, earnings, preview, lawsuit          1   \n",
       "115      9  microsoft, favourable, perseverance, platforme...          1   \n",
       "116     11                     india, to, apple, in, supplier          8   \n",
       "\n",
       "                  Timestamp  \n",
       "0   2016-12-30 17:08:09.600  \n",
       "1   2016-12-30 17:08:09.600  \n",
       "2   2016-12-30 17:08:09.600  \n",
       "3   2016-12-30 17:08:09.600  \n",
       "4   2016-12-30 17:08:09.600  \n",
       "..                      ...  \n",
       "112 2022-08-21 09:36:00.000  \n",
       "113 2022-08-21 09:36:00.000  \n",
       "114 2022-08-21 09:36:00.000  \n",
       "115 2022-08-21 09:36:00.000  \n",
       "116 2022-08-21 09:36:00.000  \n",
       "\n",
       "[117 rows x 4 columns]"
      ]
     },
     "execution_count": 111,
     "metadata": {},
     "output_type": "execute_result"
    }
   ],
   "source": [
    "topics_over_time_eikon"
   ]
  },
  {
   "cell_type": "code",
   "execution_count": 96,
   "metadata": {},
   "outputs": [
    {
     "data": {
      "application/vnd.plotly.v1+json": {
       "config": {
        "plotlyServerURL": "https://plot.ly"
       },
       "data": [
        {
         "hoverinfo": "text",
         "hovertext": [
          "<b>Topic 0</b><br>Words: apple, to, the, in, iphone",
          "<b>Topic 0</b><br>Words: apple, the, to, in, and",
          "<b>Topic 0</b><br>Words: apple, the, to, in, of",
          "<b>Topic 0</b><br>Words: apple, the, to, in, and",
          "<b>Topic 0</b><br>Words: apple, the, to, in, for",
          "<b>Topic 0</b><br>Words: apple, the, to, in, of",
          "<b>Topic 0</b><br>Words: apple, the, to, of, and",
          "<b>Topic 0</b><br>Words: apple, the, to, and, in",
          "<b>Topic 0</b><br>Words: apple, the, for, to, event",
          "<b>Topic 0</b><br>Words: jd, cei, moderna, cop, nio"
         ],
         "marker": {
          "color": "#E69F00"
         },
         "mode": "lines",
         "name": "0_apple_the_to_in",
         "type": "scatter",
         "x": [
          "2016-12-30T16:58:04.800000",
          "2017-08-19T07:12:00",
          "2018-04-05T14:24:00",
          "2018-11-20T21:36:00",
          "2019-07-08T04:48:00",
          "2020-02-22T12:00:00",
          "2020-10-08T19:12:00",
          "2021-05-26T02:24:00",
          "2022-01-10T09:36:00",
          "2022-08-27T16:48:00"
         ],
         "y": [
          36,
          17,
          11,
          12,
          1,
          7,
          8,
          3,
          1,
          1
         ]
        },
        {
         "hoverinfo": "text",
         "hovertext": [
          "<b>Topic 1</b><br>Words: apple, the, new, to, ipad",
          "<b>Topic 1</b><br>Words: apple, the, tesla, to, stocks",
          "<b>Topic 1</b><br>Words: apple, tesla, the, to, stocks",
          "<b>Topic 1</b><br>Words: apple, tesla, the, to, stocks"
         ],
         "marker": {
          "color": "#56B4E9"
         },
         "mode": "lines",
         "name": "1_apple_tesla_the_to",
         "type": "scatter",
         "x": [
          "2020-02-22T12:00:00",
          "2020-10-08T19:12:00",
          "2022-01-10T09:36:00",
          "2022-08-27T16:48:00"
         ],
         "y": [
          1,
          1,
          54,
          26
         ]
        },
        {
         "hoverinfo": "text",
         "hovertext": [
          "<b>Topic 2</b><br>Words: apple, to, the, in, for",
          "<b>Topic 2</b><br>Words: apple, to, the, in, for",
          "<b>Topic 2</b><br>Words: apple, the, to, and, in",
          "<b>Topic 2</b><br>Words: apple, the, to, in, and",
          "<b>Topic 2</b><br>Words: apple, the, to, for, and",
          "<b>Topic 2</b><br>Words: apple, the, to, for, and",
          "<b>Topic 2</b><br>Words: apple, the, to, and, of",
          "<b>Topic 2</b><br>Words: apple, the, to, in, for",
          "<b>Topic 2</b><br>Words: apple, the, to, tesla, and",
          "<b>Topic 2</b><br>Words: apple, the, to, in, on"
         ],
         "marker": {
          "color": "#009E73"
         },
         "mode": "lines",
         "name": "2_apple_the_to_in",
         "type": "scatter",
         "x": [
          "2016-12-30T16:58:04.800000",
          "2017-08-19T07:12:00",
          "2018-04-05T14:24:00",
          "2018-11-20T21:36:00",
          "2019-07-08T04:48:00",
          "2020-02-22T12:00:00",
          "2020-10-08T19:12:00",
          "2021-05-26T02:24:00",
          "2022-01-10T09:36:00",
          "2022-08-27T16:48:00"
         ],
         "y": [
          9,
          6,
          9,
          16,
          14,
          5,
          4,
          5,
          2,
          2
         ]
        },
        {
         "hoverinfo": "text",
         "hovertext": [
          "<b>Topic 3</b><br>Words: apple, the, to, airpower, by",
          "<b>Topic 3</b><br>Words: apple, the, to, on, and",
          "<b>Topic 3</b><br>Words: apple, the, to, and, for",
          "<b>Topic 3</b><br>Words: apple, the, to, for, and",
          "<b>Topic 3</b><br>Words: apple, the, to, and, for",
          "<b>Topic 3</b><br>Words: apple, the, to, tesla, in"
         ],
         "marker": {
          "color": "#F0E442"
         },
         "mode": "lines",
         "name": "3_apple_the_to_and",
         "type": "scatter",
         "x": [
          "2018-11-20T21:36:00",
          "2019-07-08T04:48:00",
          "2020-02-22T12:00:00",
          "2020-10-08T19:12:00",
          "2021-05-26T02:24:00",
          "2022-01-10T09:36:00"
         ],
         "y": [
          1,
          1,
          12,
          16,
          10,
          2
         ]
        },
        {
         "hoverinfo": "text",
         "hovertext": [
          "<b>Topic 4</b><br>Words: apple, the, to, and, for",
          "<b>Topic 4</b><br>Words: apple, the, to, fb, in",
          "<b>Topic 4</b><br>Words: apple, the, to, and, of",
          "<b>Topic 4</b><br>Words: apple, the, to, for, and",
          "<b>Topic 4</b><br>Words: apple, the, to, and, for",
          "<b>Topic 4</b><br>Words: apple, the, to, and, for",
          "<b>Topic 4</b><br>Words: apple, the, to, of, and"
         ],
         "marker": {
          "color": "#D55E00"
         },
         "mode": "lines",
         "name": "4_apple_the_to_and",
         "type": "scatter",
         "x": [
          "2017-08-19T07:12:00",
          "2018-04-05T14:24:00",
          "2018-11-20T21:36:00",
          "2019-07-08T04:48:00",
          "2020-02-22T12:00:00",
          "2020-10-08T19:12:00",
          "2022-08-27T16:48:00"
         ],
         "y": [
          1,
          2,
          2,
          2,
          24,
          9,
          1
         ]
        },
        {
         "hoverinfo": "text",
         "hovertext": [
          "<b>Topic 5</b><br>Words: apple, to, in, the, and",
          "<b>Topic 5</b><br>Words: apple, to, the, by, in",
          "<b>Topic 5</b><br>Words: apple, to, in, the, for"
         ],
         "marker": {
          "color": "#0072B2"
         },
         "mode": "lines",
         "name": "5_apple_to_in_the",
         "type": "scatter",
         "x": [
          "2017-08-19T07:12:00",
          "2018-04-05T14:24:00",
          "2019-07-08T04:48:00"
         ],
         "y": [
          6,
          29,
          3
         ]
        },
        {
         "hoverinfo": "text",
         "hovertext": [
          "<b>Topic 6</b><br>Words: apple, to, the, in, and",
          "<b>Topic 6</b><br>Words: apple, the, to, and, in",
          "<b>Topic 6</b><br>Words: apple, the, to, and, in",
          "<b>Topic 6</b><br>Words: apple, the, to, and, for",
          "<b>Topic 6</b><br>Words: apple, the, to, and, in",
          "<b>Topic 6</b><br>Words: apple, the, to, eu, of",
          "<b>Topic 6</b><br>Words: apple, the, to, and, of",
          "<b>Topic 6</b><br>Words: apple, the, to, and, for",
          "<b>Topic 6</b><br>Words: apple, the, to, and, stocks"
         ],
         "marker": {
          "color": "#CC79A7"
         },
         "mode": "lines",
         "name": "6_apple_the_to_and",
         "type": "scatter",
         "x": [
          "2017-08-19T07:12:00",
          "2018-04-05T14:24:00",
          "2018-11-20T21:36:00",
          "2019-07-08T04:48:00",
          "2020-02-22T12:00:00",
          "2020-10-08T19:12:00",
          "2021-05-26T02:24:00",
          "2022-01-10T09:36:00",
          "2022-08-27T16:48:00"
         ],
         "y": [
          7,
          1,
          7,
          10,
          3,
          1,
          4,
          1,
          1
         ]
        },
        {
         "hoverinfo": "text",
         "hovertext": [
          "<b>Topic 7</b><br>Words: apple, tesla, baba, spy, meta",
          "<b>Topic 7</b><br>Words: apple, tesla, baba, spy, meta",
          "<b>Topic 7</b><br>Words: tesla, spy, baba, apple, ba",
          "<b>Topic 7</b><br>Words: tesla, spy, baba, nio, apple",
          "<b>Topic 7</b><br>Words: backhand, pointing, index, gm, tesla",
          "<b>Topic 7</b><br>Words: meta, cei, moderna, cop, baba"
         ],
         "marker": {
          "color": "#E69F00"
         },
         "mode": "lines",
         "name": "7_meta_tesla_cei_baba",
         "type": "scatter",
         "x": [
          "2016-12-30T16:58:04.800000",
          "2017-08-19T07:12:00",
          "2020-02-22T12:00:00",
          "2020-10-08T19:12:00",
          "2022-01-10T09:36:00",
          "2022-08-27T16:48:00"
         ],
         "y": [
          2,
          1,
          5,
          3,
          5,
          18
         ]
        },
        {
         "hoverinfo": "text",
         "hovertext": [
          "<b>Topic 8</b><br>Words: apple, to, the, in, of",
          "<b>Topic 8</b><br>Words: apple, spectre, to, flaws, chip",
          "<b>Topic 8</b><br>Words: apple, the, declined, to, as",
          "<b>Topic 8</b><br>Words: apple, and, to, for, the",
          "<b>Topic 8</b><br>Words: apple, to, the, and, google",
          "<b>Topic 8</b><br>Words: to, vietnam, apple, minimise, production",
          "<b>Topic 8</b><br>Words: apple, the, to, and, for",
          "<b>Topic 8</b><br>Words: nerd, backhand, pointing, index, down",
          "<b>Topic 8</b><br>Words: apple, tesla, meta, spy, the"
         ],
         "marker": {
          "color": "#56B4E9"
         },
         "mode": "lines",
         "name": "8_apple_the_to_and",
         "type": "scatter",
         "x": [
          "2016-12-30T16:58:04.800000",
          "2017-08-19T07:12:00",
          "2018-11-20T21:36:00",
          "2019-07-08T04:48:00",
          "2020-02-22T12:00:00",
          "2020-10-08T19:12:00",
          "2021-05-26T02:24:00",
          "2022-01-10T09:36:00",
          "2022-08-27T16:48:00"
         ],
         "y": [
          2,
          1,
          4,
          1,
          2,
          1,
          12,
          4,
          6
         ]
        },
        {
         "hoverinfo": "text",
         "hovertext": [
          "<b>Topic 9</b><br>Words: apple, iphone, the, to, in",
          "<b>Topic 9</b><br>Words: iphone, apple, the, to, new",
          "<b>Topic 9</b><br>Words: apple, declined, by, iphone, has",
          "<b>Topic 9</b><br>Words: apple, iphone, to, the, for",
          "<b>Topic 9</b><br>Words: apple, the, iphone, to, for",
          "<b>Topic 9</b><br>Words: apple, to, iphone, the, for",
          "<b>Topic 9</b><br>Words: apple, iphone, the, to, for",
          "<b>Topic 9</b><br>Words: apple, iphone, the, to, tesla",
          "<b>Topic 9</b><br>Words: jd, cei, moderna, cop, nio"
         ],
         "marker": {
          "color": "#009E73"
         },
         "mode": "lines",
         "name": "9_apple_iphone_the_to",
         "type": "scatter",
         "x": [
          "2016-12-30T16:58:04.800000",
          "2017-08-19T07:12:00",
          "2018-11-20T21:36:00",
          "2019-07-08T04:48:00",
          "2020-02-22T12:00:00",
          "2020-10-08T19:12:00",
          "2021-05-26T02:24:00",
          "2022-01-10T09:36:00",
          "2022-08-27T16:48:00"
         ],
         "y": [
          9,
          6,
          2,
          2,
          1,
          2,
          6,
          2,
          3
         ]
        }
       ],
       "layout": {
        "height": 450,
        "hoverlabel": {
         "bgcolor": "white",
         "font": {
          "family": "Rockwell",
          "size": 16
         }
        },
        "legend": {
         "title": {
          "text": "<b>Global Topic Representation"
         }
        },
        "template": {
         "data": {
          "bar": [
           {
            "error_x": {
             "color": "rgb(36,36,36)"
            },
            "error_y": {
             "color": "rgb(36,36,36)"
            },
            "marker": {
             "line": {
              "color": "white",
              "width": 0.5
             },
             "pattern": {
              "fillmode": "overlay",
              "size": 10,
              "solidity": 0.2
             }
            },
            "type": "bar"
           }
          ],
          "barpolar": [
           {
            "marker": {
             "line": {
              "color": "white",
              "width": 0.5
             },
             "pattern": {
              "fillmode": "overlay",
              "size": 10,
              "solidity": 0.2
             }
            },
            "type": "barpolar"
           }
          ],
          "carpet": [
           {
            "aaxis": {
             "endlinecolor": "rgb(36,36,36)",
             "gridcolor": "white",
             "linecolor": "white",
             "minorgridcolor": "white",
             "startlinecolor": "rgb(36,36,36)"
            },
            "baxis": {
             "endlinecolor": "rgb(36,36,36)",
             "gridcolor": "white",
             "linecolor": "white",
             "minorgridcolor": "white",
             "startlinecolor": "rgb(36,36,36)"
            },
            "type": "carpet"
           }
          ],
          "choropleth": [
           {
            "colorbar": {
             "outlinewidth": 1,
             "tickcolor": "rgb(36,36,36)",
             "ticks": "outside"
            },
            "type": "choropleth"
           }
          ],
          "contour": [
           {
            "colorbar": {
             "outlinewidth": 1,
             "tickcolor": "rgb(36,36,36)",
             "ticks": "outside"
            },
            "colorscale": [
             [
              0,
              "#440154"
             ],
             [
              0.1111111111111111,
              "#482878"
             ],
             [
              0.2222222222222222,
              "#3e4989"
             ],
             [
              0.3333333333333333,
              "#31688e"
             ],
             [
              0.4444444444444444,
              "#26828e"
             ],
             [
              0.5555555555555556,
              "#1f9e89"
             ],
             [
              0.6666666666666666,
              "#35b779"
             ],
             [
              0.7777777777777778,
              "#6ece58"
             ],
             [
              0.8888888888888888,
              "#b5de2b"
             ],
             [
              1,
              "#fde725"
             ]
            ],
            "type": "contour"
           }
          ],
          "contourcarpet": [
           {
            "colorbar": {
             "outlinewidth": 1,
             "tickcolor": "rgb(36,36,36)",
             "ticks": "outside"
            },
            "type": "contourcarpet"
           }
          ],
          "heatmap": [
           {
            "colorbar": {
             "outlinewidth": 1,
             "tickcolor": "rgb(36,36,36)",
             "ticks": "outside"
            },
            "colorscale": [
             [
              0,
              "#440154"
             ],
             [
              0.1111111111111111,
              "#482878"
             ],
             [
              0.2222222222222222,
              "#3e4989"
             ],
             [
              0.3333333333333333,
              "#31688e"
             ],
             [
              0.4444444444444444,
              "#26828e"
             ],
             [
              0.5555555555555556,
              "#1f9e89"
             ],
             [
              0.6666666666666666,
              "#35b779"
             ],
             [
              0.7777777777777778,
              "#6ece58"
             ],
             [
              0.8888888888888888,
              "#b5de2b"
             ],
             [
              1,
              "#fde725"
             ]
            ],
            "type": "heatmap"
           }
          ],
          "heatmapgl": [
           {
            "colorbar": {
             "outlinewidth": 1,
             "tickcolor": "rgb(36,36,36)",
             "ticks": "outside"
            },
            "colorscale": [
             [
              0,
              "#440154"
             ],
             [
              0.1111111111111111,
              "#482878"
             ],
             [
              0.2222222222222222,
              "#3e4989"
             ],
             [
              0.3333333333333333,
              "#31688e"
             ],
             [
              0.4444444444444444,
              "#26828e"
             ],
             [
              0.5555555555555556,
              "#1f9e89"
             ],
             [
              0.6666666666666666,
              "#35b779"
             ],
             [
              0.7777777777777778,
              "#6ece58"
             ],
             [
              0.8888888888888888,
              "#b5de2b"
             ],
             [
              1,
              "#fde725"
             ]
            ],
            "type": "heatmapgl"
           }
          ],
          "histogram": [
           {
            "marker": {
             "line": {
              "color": "white",
              "width": 0.6
             }
            },
            "type": "histogram"
           }
          ],
          "histogram2d": [
           {
            "colorbar": {
             "outlinewidth": 1,
             "tickcolor": "rgb(36,36,36)",
             "ticks": "outside"
            },
            "colorscale": [
             [
              0,
              "#440154"
             ],
             [
              0.1111111111111111,
              "#482878"
             ],
             [
              0.2222222222222222,
              "#3e4989"
             ],
             [
              0.3333333333333333,
              "#31688e"
             ],
             [
              0.4444444444444444,
              "#26828e"
             ],
             [
              0.5555555555555556,
              "#1f9e89"
             ],
             [
              0.6666666666666666,
              "#35b779"
             ],
             [
              0.7777777777777778,
              "#6ece58"
             ],
             [
              0.8888888888888888,
              "#b5de2b"
             ],
             [
              1,
              "#fde725"
             ]
            ],
            "type": "histogram2d"
           }
          ],
          "histogram2dcontour": [
           {
            "colorbar": {
             "outlinewidth": 1,
             "tickcolor": "rgb(36,36,36)",
             "ticks": "outside"
            },
            "colorscale": [
             [
              0,
              "#440154"
             ],
             [
              0.1111111111111111,
              "#482878"
             ],
             [
              0.2222222222222222,
              "#3e4989"
             ],
             [
              0.3333333333333333,
              "#31688e"
             ],
             [
              0.4444444444444444,
              "#26828e"
             ],
             [
              0.5555555555555556,
              "#1f9e89"
             ],
             [
              0.6666666666666666,
              "#35b779"
             ],
             [
              0.7777777777777778,
              "#6ece58"
             ],
             [
              0.8888888888888888,
              "#b5de2b"
             ],
             [
              1,
              "#fde725"
             ]
            ],
            "type": "histogram2dcontour"
           }
          ],
          "mesh3d": [
           {
            "colorbar": {
             "outlinewidth": 1,
             "tickcolor": "rgb(36,36,36)",
             "ticks": "outside"
            },
            "type": "mesh3d"
           }
          ],
          "parcoords": [
           {
            "line": {
             "colorbar": {
              "outlinewidth": 1,
              "tickcolor": "rgb(36,36,36)",
              "ticks": "outside"
             }
            },
            "type": "parcoords"
           }
          ],
          "pie": [
           {
            "automargin": true,
            "type": "pie"
           }
          ],
          "scatter": [
           {
            "fillpattern": {
             "fillmode": "overlay",
             "size": 10,
             "solidity": 0.2
            },
            "type": "scatter"
           }
          ],
          "scatter3d": [
           {
            "line": {
             "colorbar": {
              "outlinewidth": 1,
              "tickcolor": "rgb(36,36,36)",
              "ticks": "outside"
             }
            },
            "marker": {
             "colorbar": {
              "outlinewidth": 1,
              "tickcolor": "rgb(36,36,36)",
              "ticks": "outside"
             }
            },
            "type": "scatter3d"
           }
          ],
          "scattercarpet": [
           {
            "marker": {
             "colorbar": {
              "outlinewidth": 1,
              "tickcolor": "rgb(36,36,36)",
              "ticks": "outside"
             }
            },
            "type": "scattercarpet"
           }
          ],
          "scattergeo": [
           {
            "marker": {
             "colorbar": {
              "outlinewidth": 1,
              "tickcolor": "rgb(36,36,36)",
              "ticks": "outside"
             }
            },
            "type": "scattergeo"
           }
          ],
          "scattergl": [
           {
            "marker": {
             "colorbar": {
              "outlinewidth": 1,
              "tickcolor": "rgb(36,36,36)",
              "ticks": "outside"
             }
            },
            "type": "scattergl"
           }
          ],
          "scattermapbox": [
           {
            "marker": {
             "colorbar": {
              "outlinewidth": 1,
              "tickcolor": "rgb(36,36,36)",
              "ticks": "outside"
             }
            },
            "type": "scattermapbox"
           }
          ],
          "scatterpolar": [
           {
            "marker": {
             "colorbar": {
              "outlinewidth": 1,
              "tickcolor": "rgb(36,36,36)",
              "ticks": "outside"
             }
            },
            "type": "scatterpolar"
           }
          ],
          "scatterpolargl": [
           {
            "marker": {
             "colorbar": {
              "outlinewidth": 1,
              "tickcolor": "rgb(36,36,36)",
              "ticks": "outside"
             }
            },
            "type": "scatterpolargl"
           }
          ],
          "scatterternary": [
           {
            "marker": {
             "colorbar": {
              "outlinewidth": 1,
              "tickcolor": "rgb(36,36,36)",
              "ticks": "outside"
             }
            },
            "type": "scatterternary"
           }
          ],
          "surface": [
           {
            "colorbar": {
             "outlinewidth": 1,
             "tickcolor": "rgb(36,36,36)",
             "ticks": "outside"
            },
            "colorscale": [
             [
              0,
              "#440154"
             ],
             [
              0.1111111111111111,
              "#482878"
             ],
             [
              0.2222222222222222,
              "#3e4989"
             ],
             [
              0.3333333333333333,
              "#31688e"
             ],
             [
              0.4444444444444444,
              "#26828e"
             ],
             [
              0.5555555555555556,
              "#1f9e89"
             ],
             [
              0.6666666666666666,
              "#35b779"
             ],
             [
              0.7777777777777778,
              "#6ece58"
             ],
             [
              0.8888888888888888,
              "#b5de2b"
             ],
             [
              1,
              "#fde725"
             ]
            ],
            "type": "surface"
           }
          ],
          "table": [
           {
            "cells": {
             "fill": {
              "color": "rgb(237,237,237)"
             },
             "line": {
              "color": "white"
             }
            },
            "header": {
             "fill": {
              "color": "rgb(217,217,217)"
             },
             "line": {
              "color": "white"
             }
            },
            "type": "table"
           }
          ]
         },
         "layout": {
          "annotationdefaults": {
           "arrowhead": 0,
           "arrowwidth": 1
          },
          "autotypenumbers": "strict",
          "coloraxis": {
           "colorbar": {
            "outlinewidth": 1,
            "tickcolor": "rgb(36,36,36)",
            "ticks": "outside"
           }
          },
          "colorscale": {
           "diverging": [
            [
             0,
             "rgb(103,0,31)"
            ],
            [
             0.1,
             "rgb(178,24,43)"
            ],
            [
             0.2,
             "rgb(214,96,77)"
            ],
            [
             0.3,
             "rgb(244,165,130)"
            ],
            [
             0.4,
             "rgb(253,219,199)"
            ],
            [
             0.5,
             "rgb(247,247,247)"
            ],
            [
             0.6,
             "rgb(209,229,240)"
            ],
            [
             0.7,
             "rgb(146,197,222)"
            ],
            [
             0.8,
             "rgb(67,147,195)"
            ],
            [
             0.9,
             "rgb(33,102,172)"
            ],
            [
             1,
             "rgb(5,48,97)"
            ]
           ],
           "sequential": [
            [
             0,
             "#440154"
            ],
            [
             0.1111111111111111,
             "#482878"
            ],
            [
             0.2222222222222222,
             "#3e4989"
            ],
            [
             0.3333333333333333,
             "#31688e"
            ],
            [
             0.4444444444444444,
             "#26828e"
            ],
            [
             0.5555555555555556,
             "#1f9e89"
            ],
            [
             0.6666666666666666,
             "#35b779"
            ],
            [
             0.7777777777777778,
             "#6ece58"
            ],
            [
             0.8888888888888888,
             "#b5de2b"
            ],
            [
             1,
             "#fde725"
            ]
           ],
           "sequentialminus": [
            [
             0,
             "#440154"
            ],
            [
             0.1111111111111111,
             "#482878"
            ],
            [
             0.2222222222222222,
             "#3e4989"
            ],
            [
             0.3333333333333333,
             "#31688e"
            ],
            [
             0.4444444444444444,
             "#26828e"
            ],
            [
             0.5555555555555556,
             "#1f9e89"
            ],
            [
             0.6666666666666666,
             "#35b779"
            ],
            [
             0.7777777777777778,
             "#6ece58"
            ],
            [
             0.8888888888888888,
             "#b5de2b"
            ],
            [
             1,
             "#fde725"
            ]
           ]
          },
          "colorway": [
           "#1F77B4",
           "#FF7F0E",
           "#2CA02C",
           "#D62728",
           "#9467BD",
           "#8C564B",
           "#E377C2",
           "#7F7F7F",
           "#BCBD22",
           "#17BECF"
          ],
          "font": {
           "color": "rgb(36,36,36)"
          },
          "geo": {
           "bgcolor": "white",
           "lakecolor": "white",
           "landcolor": "white",
           "showlakes": true,
           "showland": true,
           "subunitcolor": "white"
          },
          "hoverlabel": {
           "align": "left"
          },
          "hovermode": "closest",
          "mapbox": {
           "style": "light"
          },
          "paper_bgcolor": "white",
          "plot_bgcolor": "white",
          "polar": {
           "angularaxis": {
            "gridcolor": "rgb(232,232,232)",
            "linecolor": "rgb(36,36,36)",
            "showgrid": false,
            "showline": true,
            "ticks": "outside"
           },
           "bgcolor": "white",
           "radialaxis": {
            "gridcolor": "rgb(232,232,232)",
            "linecolor": "rgb(36,36,36)",
            "showgrid": false,
            "showline": true,
            "ticks": "outside"
           }
          },
          "scene": {
           "xaxis": {
            "backgroundcolor": "white",
            "gridcolor": "rgb(232,232,232)",
            "gridwidth": 2,
            "linecolor": "rgb(36,36,36)",
            "showbackground": true,
            "showgrid": false,
            "showline": true,
            "ticks": "outside",
            "zeroline": false,
            "zerolinecolor": "rgb(36,36,36)"
           },
           "yaxis": {
            "backgroundcolor": "white",
            "gridcolor": "rgb(232,232,232)",
            "gridwidth": 2,
            "linecolor": "rgb(36,36,36)",
            "showbackground": true,
            "showgrid": false,
            "showline": true,
            "ticks": "outside",
            "zeroline": false,
            "zerolinecolor": "rgb(36,36,36)"
           },
           "zaxis": {
            "backgroundcolor": "white",
            "gridcolor": "rgb(232,232,232)",
            "gridwidth": 2,
            "linecolor": "rgb(36,36,36)",
            "showbackground": true,
            "showgrid": false,
            "showline": true,
            "ticks": "outside",
            "zeroline": false,
            "zerolinecolor": "rgb(36,36,36)"
           }
          },
          "shapedefaults": {
           "fillcolor": "black",
           "line": {
            "width": 0
           },
           "opacity": 0.3
          },
          "ternary": {
           "aaxis": {
            "gridcolor": "rgb(232,232,232)",
            "linecolor": "rgb(36,36,36)",
            "showgrid": false,
            "showline": true,
            "ticks": "outside"
           },
           "baxis": {
            "gridcolor": "rgb(232,232,232)",
            "linecolor": "rgb(36,36,36)",
            "showgrid": false,
            "showline": true,
            "ticks": "outside"
           },
           "bgcolor": "white",
           "caxis": {
            "gridcolor": "rgb(232,232,232)",
            "linecolor": "rgb(36,36,36)",
            "showgrid": false,
            "showline": true,
            "ticks": "outside"
           }
          },
          "title": {
           "x": 0.05
          },
          "xaxis": {
           "automargin": true,
           "gridcolor": "rgb(232,232,232)",
           "linecolor": "rgb(36,36,36)",
           "showgrid": false,
           "showline": true,
           "ticks": "outside",
           "title": {
            "standoff": 15
           },
           "zeroline": false,
           "zerolinecolor": "rgb(36,36,36)"
          },
          "yaxis": {
           "automargin": true,
           "gridcolor": "rgb(232,232,232)",
           "linecolor": "rgb(36,36,36)",
           "showgrid": false,
           "showline": true,
           "ticks": "outside",
           "title": {
            "standoff": 15
           },
           "zeroline": false,
           "zerolinecolor": "rgb(36,36,36)"
          }
         }
        },
        "title": {
         "font": {
          "color": "Black",
          "size": 22
         },
         "text": "<b>Topics over Time</b>",
         "x": 0.4,
         "xanchor": "center",
         "y": 0.95,
         "yanchor": "top"
        },
        "width": 1250,
        "xaxis": {
         "showgrid": true
        },
        "yaxis": {
         "showgrid": true,
         "title": {
          "text": "Frequency"
         }
        }
       }
      }
     },
     "metadata": {},
     "output_type": "display_data"
    }
   ],
   "source": [
    "topic_model.visualize_topics_over_time(topics_over_time, top_n_topics=10)"
   ]
  },
  {
   "cell_type": "code",
   "execution_count": 122,
   "metadata": {},
   "outputs": [
    {
     "data": {
      "application/vnd.plotly.v1+json": {
       "config": {
        "plotlyServerURL": "https://plot.ly"
       },
       "data": [
        {
         "hoverinfo": "text",
         "hovertext": [
          "<b>Topic 0</b><br>Words: dissolves, share, stake, inc, appaloosa",
          "<b>Topic 0</b><br>Words: stake, in, apple, share, inc",
          "<b>Topic 0</b><br>Words: holdings, management, inc, has, million",
          "<b>Topic 0</b><br>Words: apple, inc, nasdaq, in, has",
          "<b>Topic 0</b><br>Words: nasdaq, apple, inc, llc, in",
          "<b>Topic 0</b><br>Words: nasdaq, apple, inc, in, million",
          "<b>Topic 0</b><br>Words: nasdaq, inc, apple, llc, shares",
          "<b>Topic 0</b><br>Words: early, olx, dn, carver, shape",
          "<b>Topic 0</b><br>Words: nasdaq, inc, apple, llc, in"
         ],
         "marker": {
          "color": "#E69F00"
         },
         "mode": "lines",
         "name": "0_nasdaq_apple_inc_llc",
         "type": "scatter",
         "x": [
          "2016-12-30T17:08:09.600000",
          "2017-08-18T14:24:00",
          "2018-04-04T04:48:00",
          "2018-11-18T19:12:00",
          "2019-07-05T09:36:00",
          "2020-02-19T00:00:00",
          "2020-10-04T14:24:00",
          "2021-05-21T04:48:00",
          "2022-08-21T09:36:00"
         ],
         "y": [
          1,
          5,
          16,
          11,
          64,
          3,
          38,
          1,
          10
         ]
        },
        {
         "hoverinfo": "text",
         "hovertext": [
          "<b>Topic 1</b><br>Words: never, far, behind, been, so",
          "<b>Topic 1</b><br>Words: investors, halfway, delivers, little, 500",
          "<b>Topic 1</b><br>Words: warning, stocks, markets, global, apple",
          "<b>Topic 1</b><br>Words: stimulus, hopes, virus, china, on",
          "<b>Topic 1</b><br>Words: markets, stocks, live, to, tech",
          "<b>Topic 1</b><br>Words: stocks, us, markets, live, sp",
          "<b>Topic 1</b><br>Words: markets, stocks, live, us, wall",
          "<b>Topic 1</b><br>Words: stocks, markets, cfo, us, live",
          "<b>Topic 1</b><br>Words: stocks, markets, live, us, on"
         ],
         "marker": {
          "color": "#56B4E9"
         },
         "mode": "lines",
         "name": "1_stocks_markets_us_live",
         "type": "scatter",
         "x": [
          "2017-08-18T14:24:00",
          "2018-04-04T04:48:00",
          "2018-11-18T19:12:00",
          "2019-07-05T09:36:00",
          "2020-02-19T00:00:00",
          "2020-10-04T14:24:00",
          "2021-05-21T04:48:00",
          "2022-01-04T19:12:00",
          "2022-08-21T09:36:00"
         ],
         "y": [
          1,
          3,
          2,
          1,
          13,
          29,
          53,
          10,
          4
         ]
        },
        {
         "hoverinfo": "text",
         "hovertext": [
          "<b>Topic 2</b><br>Words: apple, inc, earnings, price, target",
          "<b>Topic 2</b><br>Words: apple, iphone, stocks, on, earnings",
          "<b>Topic 2</b><br>Words: apple, earnings, stocks, price, target",
          "<b>Topic 2</b><br>Words: apple, on, stocks, inc, earnings",
          "<b>Topic 2</b><br>Words: apple, earnings, nasdaq, the, analysts",
          "<b>Topic 2</b><br>Words: apple, bundle, earnings, the, markets",
          "<b>Topic 2</b><br>Words: forecasts, q3, nasdaq, 36, brokers",
          "<b>Topic 2</b><br>Words: markets, apple, stocks, live, on",
          "<b>Topic 2</b><br>Words: apple, stocks, on, the, buzz",
          "<b>Topic 2</b><br>Words: apple, the, stocks, on, iphone"
         ],
         "marker": {
          "color": "#009E73"
         },
         "mode": "lines",
         "name": "2_apple_earnings_stocks_on",
         "type": "scatter",
         "x": [
          "2016-12-30T17:08:09.600000",
          "2017-08-18T14:24:00",
          "2018-04-04T04:48:00",
          "2018-11-18T19:12:00",
          "2019-07-05T09:36:00",
          "2020-02-19T00:00:00",
          "2020-10-04T14:24:00",
          "2021-05-21T04:48:00",
          "2022-01-04T19:12:00",
          "2022-08-21T09:36:00"
         ],
         "y": [
          15,
          14,
          18,
          11,
          7,
          5,
          1,
          2,
          6,
          8
         ]
        },
        {
         "hoverinfo": "text",
         "hovertext": [
          "<b>Topic 3</b><br>Words: nokia, huawei, slowest, reshoring, h1",
          "<b>Topic 3</b><br>Words: china, pulled, clamp, skype, riders",
          "<b>Topic 3</b><br>Words: china, to, update, apple, for",
          "<b>Topic 3</b><br>Words: china, huawei, stocks, to, move",
          "<b>Topic 3</b><br>Words: goals, falling, renewable, behind, rehearing",
          "<b>Topic 3</b><br>Words: china, on, to, markets, the",
          "<b>Topic 3</b><br>Words: social, china, to, parler, update",
          "<b>Topic 3</b><br>Words: to, on, apple, iphone, china",
          "<b>Topic 3</b><br>Words: china, to, iphone, says, apple",
          "<b>Topic 3</b><br>Words: to, apple, iphone, china, on"
         ],
         "marker": {
          "color": "#F0E442"
         },
         "mode": "lines",
         "name": "3_china_to_apple_iphone",
         "type": "scatter",
         "x": [
          "2016-12-30T17:08:09.600000",
          "2017-08-18T14:24:00",
          "2018-04-04T04:48:00",
          "2018-11-18T19:12:00",
          "2019-07-05T09:36:00",
          "2020-02-19T00:00:00",
          "2020-10-04T14:24:00",
          "2021-05-21T04:48:00",
          "2022-01-04T19:12:00",
          "2022-08-21T09:36:00"
         ],
         "y": [
          1,
          4,
          4,
          9,
          3,
          8,
          4,
          7,
          11,
          22
         ]
        },
        {
         "hoverinfo": "text",
         "hovertext": [
          "<b>Topic 4</b><br>Words: rating, apple, inc, for, updated",
          "<b>Topic 4</b><br>Words: rating, apple, inc, buy, reaffirms",
          "<b>Topic 4</b><br>Words: 731, 1103, oxbow, fiscal, due",
          "<b>Topic 4</b><br>Words: trims, distorted, manning, napier, stake",
          "<b>Topic 4</b><br>Words: tigress, rating, buy, apple, financial"
         ],
         "marker": {
          "color": "#D55E00"
         },
         "mode": "lines",
         "name": "4_rating_apple_inc_buy",
         "type": "scatter",
         "x": [
          "2016-12-30T17:08:09.600000",
          "2017-08-18T14:24:00",
          "2018-04-04T04:48:00",
          "2018-11-18T19:12:00",
          "2019-07-05T09:36:00"
         ],
         "y": [
          43,
          12,
          1,
          1,
          3
         ]
        },
        {
         "hoverinfo": "text",
         "hovertext": [
          "<b>Topic 5</b><br>Words: inc, apple, price, target, rating",
          "<b>Topic 5</b><br>Words: inc, target, price, apple, 815",
          "<b>Topic 5</b><br>Words: price, target, analysts, inc, apple",
          "<b>Topic 5</b><br>Words: target, inc, price, apple, analysts",
          "<b>Topic 5</b><br>Words: docu, bf, apa, bmw, 6th",
          "<b>Topic 5</b><br>Words: los, downtown, funny, joe, rogan"
         ],
         "marker": {
          "color": "#0072B2"
         },
         "mode": "lines",
         "name": "5_inc_price_target_apple",
         "type": "scatter",
         "x": [
          "2016-12-30T17:08:09.600000",
          "2017-08-18T14:24:00",
          "2018-04-04T04:48:00",
          "2018-11-18T19:12:00",
          "2019-07-05T09:36:00",
          "2022-01-04T19:12:00"
         ],
         "y": [
          34,
          3,
          9,
          2,
          1,
          1
         ]
        },
        {
         "hoverinfo": "text",
         "hovertext": [
          "<b>Topic 6</b><br>Words: oversight, ramps, vr, ar, efforts",
          "<b>Topic 6</b><br>Words: eu, fines, antitrust, regulators, fine",
          "<b>Topic 6</b><br>Words: free, eu, rebate, gala, owes",
          "<b>Topic 6</b><br>Words: revisions, under, benchmark, ebbing, mild",
          "<b>Topic 6</b><br>Words: fine, french, eu, antitrust, to",
          "<b>Topic 6</b><br>Words: principles, advocacy, influence, misleading, initiative",
          "<b>Topic 6</b><br>Words: antitrust, ceiling, eu, debt, fine",
          "<b>Topic 6</b><br>Words: eu, fine, antitrust, to, apple",
          "<b>Topic 6</b><br>Words: fine, antitrust, eu, court, to"
         ],
         "marker": {
          "color": "#CC79A7"
         },
         "mode": "lines",
         "name": "6_eu_fine_antitrust_to",
         "type": "scatter",
         "x": [
          "2016-12-30T17:08:09.600000",
          "2017-08-18T14:24:00",
          "2018-11-18T19:12:00",
          "2019-07-05T09:36:00",
          "2020-02-19T00:00:00",
          "2020-10-04T14:24:00",
          "2021-05-21T04:48:00",
          "2022-01-04T19:12:00",
          "2022-08-21T09:36:00"
         ],
         "y": [
          1,
          2,
          3,
          3,
          4,
          1,
          2,
          13,
          7
         ]
        },
        {
         "hoverinfo": "text",
         "hovertext": [
          "<b>Topic 7</b><br>Words: apple, dialog, samsung, update, on",
          "<b>Topic 7</b><br>Words: samsung, update, on, profit, elec",
          "<b>Topic 7</b><br>Words: samsung, update, elec, profit, prices",
          "<b>Topic 7</b><br>Words: stays, behind, android, ios, 2020",
          "<b>Topic 7</b><br>Words: earnings, on, markets, update, in",
          "<b>Topic 7</b><br>Words: officer, chief, 275, signed, update",
          "<b>Topic 7</b><br>Words: repair, service, self, available, 143",
          "<b>Topic 7</b><br>Words: gigabit, to, apple, biden, earnings"
         ],
         "marker": {
          "color": "#E69F00"
         },
         "mode": "lines",
         "name": "7_update_apple_samsung_on",
         "type": "scatter",
         "x": [
          "2017-08-18T14:24:00",
          "2018-04-04T04:48:00",
          "2018-11-18T19:12:00",
          "2020-02-19T00:00:00",
          "2020-10-04T14:24:00",
          "2021-05-21T04:48:00",
          "2022-01-04T19:12:00",
          "2022-08-21T09:36:00"
         ],
         "y": [
          6,
          9,
          5,
          1,
          2,
          1,
          1,
          3
         ]
        },
        {
         "hoverinfo": "text",
         "hovertext": [
          "<b>Topic 8</b><br>Words: yrs, reseller, auditors, gay, showing",
          "<b>Topic 8</b><br>Words: feel, bumper, fitbit, cost, tariffs",
          "<b>Topic 8</b><br>Words: taiwan, gou, update, chairman, antitrust",
          "<b>Topic 8</b><br>Words: taiwan, apple, stake, financial, nasdaq",
          "<b>Topic 8</b><br>Words: taiwan, or, defend, export, delay",
          "<b>Topic 8</b><br>Words: taiwan, facebook, month, export, lawsuits",
          "<b>Topic 8</b><br>Words: fired, employee, taiwan, poll, underreporting",
          "<b>Topic 8</b><br>Words: clouds, ukraine, exports, war, outlook"
         ],
         "marker": {
          "color": "#56B4E9"
         },
         "mode": "lines",
         "name": "8_taiwan_update_apple_to",
         "type": "scatter",
         "x": [
          "2017-08-18T14:24:00",
          "2018-04-04T04:48:00",
          "2018-11-18T19:12:00",
          "2019-07-05T09:36:00",
          "2020-02-19T00:00:00",
          "2020-10-04T14:24:00",
          "2021-05-21T04:48:00",
          "2022-01-04T19:12:00"
         ],
         "y": [
          1,
          1,
          7,
          4,
          5,
          3,
          2,
          1
         ]
        },
        {
         "hoverinfo": "text",
         "hovertext": [
          "<b>Topic 9</b><br>Words: briefings, china, escalate, ban, republican",
          "<b>Topic 9</b><br>Words: switzerland, cbs, own, media, could",
          "<b>Topic 9</b><br>Words: tracing, app, contact, coronavirus, update",
          "<b>Topic 9</b><br>Words: squid, broadband, traffic, update, tracing",
          "<b>Topic 9</b><br>Words: microsoft, perseverance, platformer, mandating, favourable"
         ],
         "marker": {
          "color": "#009E73"
         },
         "mode": "lines",
         "name": "9_tracing_app_contact_coronavirus",
         "type": "scatter",
         "x": [
          "2018-04-04T04:48:00",
          "2019-07-05T09:36:00",
          "2020-02-19T00:00:00",
          "2021-05-21T04:48:00",
          "2022-08-21T09:36:00"
         ],
         "y": [
          2,
          1,
          15,
          2,
          1
         ]
        }
       ],
       "layout": {
        "height": 450,
        "hoverlabel": {
         "bgcolor": "white",
         "font": {
          "family": "Rockwell",
          "size": 16
         }
        },
        "legend": {
         "title": {
          "text": "<b>Global Topic Representation"
         }
        },
        "template": {
         "data": {
          "bar": [
           {
            "error_x": {
             "color": "rgb(36,36,36)"
            },
            "error_y": {
             "color": "rgb(36,36,36)"
            },
            "marker": {
             "line": {
              "color": "white",
              "width": 0.5
             },
             "pattern": {
              "fillmode": "overlay",
              "size": 10,
              "solidity": 0.2
             }
            },
            "type": "bar"
           }
          ],
          "barpolar": [
           {
            "marker": {
             "line": {
              "color": "white",
              "width": 0.5
             },
             "pattern": {
              "fillmode": "overlay",
              "size": 10,
              "solidity": 0.2
             }
            },
            "type": "barpolar"
           }
          ],
          "carpet": [
           {
            "aaxis": {
             "endlinecolor": "rgb(36,36,36)",
             "gridcolor": "white",
             "linecolor": "white",
             "minorgridcolor": "white",
             "startlinecolor": "rgb(36,36,36)"
            },
            "baxis": {
             "endlinecolor": "rgb(36,36,36)",
             "gridcolor": "white",
             "linecolor": "white",
             "minorgridcolor": "white",
             "startlinecolor": "rgb(36,36,36)"
            },
            "type": "carpet"
           }
          ],
          "choropleth": [
           {
            "colorbar": {
             "outlinewidth": 1,
             "tickcolor": "rgb(36,36,36)",
             "ticks": "outside"
            },
            "type": "choropleth"
           }
          ],
          "contour": [
           {
            "colorbar": {
             "outlinewidth": 1,
             "tickcolor": "rgb(36,36,36)",
             "ticks": "outside"
            },
            "colorscale": [
             [
              0,
              "#440154"
             ],
             [
              0.1111111111111111,
              "#482878"
             ],
             [
              0.2222222222222222,
              "#3e4989"
             ],
             [
              0.3333333333333333,
              "#31688e"
             ],
             [
              0.4444444444444444,
              "#26828e"
             ],
             [
              0.5555555555555556,
              "#1f9e89"
             ],
             [
              0.6666666666666666,
              "#35b779"
             ],
             [
              0.7777777777777778,
              "#6ece58"
             ],
             [
              0.8888888888888888,
              "#b5de2b"
             ],
             [
              1,
              "#fde725"
             ]
            ],
            "type": "contour"
           }
          ],
          "contourcarpet": [
           {
            "colorbar": {
             "outlinewidth": 1,
             "tickcolor": "rgb(36,36,36)",
             "ticks": "outside"
            },
            "type": "contourcarpet"
           }
          ],
          "heatmap": [
           {
            "colorbar": {
             "outlinewidth": 1,
             "tickcolor": "rgb(36,36,36)",
             "ticks": "outside"
            },
            "colorscale": [
             [
              0,
              "#440154"
             ],
             [
              0.1111111111111111,
              "#482878"
             ],
             [
              0.2222222222222222,
              "#3e4989"
             ],
             [
              0.3333333333333333,
              "#31688e"
             ],
             [
              0.4444444444444444,
              "#26828e"
             ],
             [
              0.5555555555555556,
              "#1f9e89"
             ],
             [
              0.6666666666666666,
              "#35b779"
             ],
             [
              0.7777777777777778,
              "#6ece58"
             ],
             [
              0.8888888888888888,
              "#b5de2b"
             ],
             [
              1,
              "#fde725"
             ]
            ],
            "type": "heatmap"
           }
          ],
          "heatmapgl": [
           {
            "colorbar": {
             "outlinewidth": 1,
             "tickcolor": "rgb(36,36,36)",
             "ticks": "outside"
            },
            "colorscale": [
             [
              0,
              "#440154"
             ],
             [
              0.1111111111111111,
              "#482878"
             ],
             [
              0.2222222222222222,
              "#3e4989"
             ],
             [
              0.3333333333333333,
              "#31688e"
             ],
             [
              0.4444444444444444,
              "#26828e"
             ],
             [
              0.5555555555555556,
              "#1f9e89"
             ],
             [
              0.6666666666666666,
              "#35b779"
             ],
             [
              0.7777777777777778,
              "#6ece58"
             ],
             [
              0.8888888888888888,
              "#b5de2b"
             ],
             [
              1,
              "#fde725"
             ]
            ],
            "type": "heatmapgl"
           }
          ],
          "histogram": [
           {
            "marker": {
             "line": {
              "color": "white",
              "width": 0.6
             }
            },
            "type": "histogram"
           }
          ],
          "histogram2d": [
           {
            "colorbar": {
             "outlinewidth": 1,
             "tickcolor": "rgb(36,36,36)",
             "ticks": "outside"
            },
            "colorscale": [
             [
              0,
              "#440154"
             ],
             [
              0.1111111111111111,
              "#482878"
             ],
             [
              0.2222222222222222,
              "#3e4989"
             ],
             [
              0.3333333333333333,
              "#31688e"
             ],
             [
              0.4444444444444444,
              "#26828e"
             ],
             [
              0.5555555555555556,
              "#1f9e89"
             ],
             [
              0.6666666666666666,
              "#35b779"
             ],
             [
              0.7777777777777778,
              "#6ece58"
             ],
             [
              0.8888888888888888,
              "#b5de2b"
             ],
             [
              1,
              "#fde725"
             ]
            ],
            "type": "histogram2d"
           }
          ],
          "histogram2dcontour": [
           {
            "colorbar": {
             "outlinewidth": 1,
             "tickcolor": "rgb(36,36,36)",
             "ticks": "outside"
            },
            "colorscale": [
             [
              0,
              "#440154"
             ],
             [
              0.1111111111111111,
              "#482878"
             ],
             [
              0.2222222222222222,
              "#3e4989"
             ],
             [
              0.3333333333333333,
              "#31688e"
             ],
             [
              0.4444444444444444,
              "#26828e"
             ],
             [
              0.5555555555555556,
              "#1f9e89"
             ],
             [
              0.6666666666666666,
              "#35b779"
             ],
             [
              0.7777777777777778,
              "#6ece58"
             ],
             [
              0.8888888888888888,
              "#b5de2b"
             ],
             [
              1,
              "#fde725"
             ]
            ],
            "type": "histogram2dcontour"
           }
          ],
          "mesh3d": [
           {
            "colorbar": {
             "outlinewidth": 1,
             "tickcolor": "rgb(36,36,36)",
             "ticks": "outside"
            },
            "type": "mesh3d"
           }
          ],
          "parcoords": [
           {
            "line": {
             "colorbar": {
              "outlinewidth": 1,
              "tickcolor": "rgb(36,36,36)",
              "ticks": "outside"
             }
            },
            "type": "parcoords"
           }
          ],
          "pie": [
           {
            "automargin": true,
            "type": "pie"
           }
          ],
          "scatter": [
           {
            "fillpattern": {
             "fillmode": "overlay",
             "size": 10,
             "solidity": 0.2
            },
            "type": "scatter"
           }
          ],
          "scatter3d": [
           {
            "line": {
             "colorbar": {
              "outlinewidth": 1,
              "tickcolor": "rgb(36,36,36)",
              "ticks": "outside"
             }
            },
            "marker": {
             "colorbar": {
              "outlinewidth": 1,
              "tickcolor": "rgb(36,36,36)",
              "ticks": "outside"
             }
            },
            "type": "scatter3d"
           }
          ],
          "scattercarpet": [
           {
            "marker": {
             "colorbar": {
              "outlinewidth": 1,
              "tickcolor": "rgb(36,36,36)",
              "ticks": "outside"
             }
            },
            "type": "scattercarpet"
           }
          ],
          "scattergeo": [
           {
            "marker": {
             "colorbar": {
              "outlinewidth": 1,
              "tickcolor": "rgb(36,36,36)",
              "ticks": "outside"
             }
            },
            "type": "scattergeo"
           }
          ],
          "scattergl": [
           {
            "marker": {
             "colorbar": {
              "outlinewidth": 1,
              "tickcolor": "rgb(36,36,36)",
              "ticks": "outside"
             }
            },
            "type": "scattergl"
           }
          ],
          "scattermapbox": [
           {
            "marker": {
             "colorbar": {
              "outlinewidth": 1,
              "tickcolor": "rgb(36,36,36)",
              "ticks": "outside"
             }
            },
            "type": "scattermapbox"
           }
          ],
          "scatterpolar": [
           {
            "marker": {
             "colorbar": {
              "outlinewidth": 1,
              "tickcolor": "rgb(36,36,36)",
              "ticks": "outside"
             }
            },
            "type": "scatterpolar"
           }
          ],
          "scatterpolargl": [
           {
            "marker": {
             "colorbar": {
              "outlinewidth": 1,
              "tickcolor": "rgb(36,36,36)",
              "ticks": "outside"
             }
            },
            "type": "scatterpolargl"
           }
          ],
          "scatterternary": [
           {
            "marker": {
             "colorbar": {
              "outlinewidth": 1,
              "tickcolor": "rgb(36,36,36)",
              "ticks": "outside"
             }
            },
            "type": "scatterternary"
           }
          ],
          "surface": [
           {
            "colorbar": {
             "outlinewidth": 1,
             "tickcolor": "rgb(36,36,36)",
             "ticks": "outside"
            },
            "colorscale": [
             [
              0,
              "#440154"
             ],
             [
              0.1111111111111111,
              "#482878"
             ],
             [
              0.2222222222222222,
              "#3e4989"
             ],
             [
              0.3333333333333333,
              "#31688e"
             ],
             [
              0.4444444444444444,
              "#26828e"
             ],
             [
              0.5555555555555556,
              "#1f9e89"
             ],
             [
              0.6666666666666666,
              "#35b779"
             ],
             [
              0.7777777777777778,
              "#6ece58"
             ],
             [
              0.8888888888888888,
              "#b5de2b"
             ],
             [
              1,
              "#fde725"
             ]
            ],
            "type": "surface"
           }
          ],
          "table": [
           {
            "cells": {
             "fill": {
              "color": "rgb(237,237,237)"
             },
             "line": {
              "color": "white"
             }
            },
            "header": {
             "fill": {
              "color": "rgb(217,217,217)"
             },
             "line": {
              "color": "white"
             }
            },
            "type": "table"
           }
          ]
         },
         "layout": {
          "annotationdefaults": {
           "arrowhead": 0,
           "arrowwidth": 1
          },
          "autotypenumbers": "strict",
          "coloraxis": {
           "colorbar": {
            "outlinewidth": 1,
            "tickcolor": "rgb(36,36,36)",
            "ticks": "outside"
           }
          },
          "colorscale": {
           "diverging": [
            [
             0,
             "rgb(103,0,31)"
            ],
            [
             0.1,
             "rgb(178,24,43)"
            ],
            [
             0.2,
             "rgb(214,96,77)"
            ],
            [
             0.3,
             "rgb(244,165,130)"
            ],
            [
             0.4,
             "rgb(253,219,199)"
            ],
            [
             0.5,
             "rgb(247,247,247)"
            ],
            [
             0.6,
             "rgb(209,229,240)"
            ],
            [
             0.7,
             "rgb(146,197,222)"
            ],
            [
             0.8,
             "rgb(67,147,195)"
            ],
            [
             0.9,
             "rgb(33,102,172)"
            ],
            [
             1,
             "rgb(5,48,97)"
            ]
           ],
           "sequential": [
            [
             0,
             "#440154"
            ],
            [
             0.1111111111111111,
             "#482878"
            ],
            [
             0.2222222222222222,
             "#3e4989"
            ],
            [
             0.3333333333333333,
             "#31688e"
            ],
            [
             0.4444444444444444,
             "#26828e"
            ],
            [
             0.5555555555555556,
             "#1f9e89"
            ],
            [
             0.6666666666666666,
             "#35b779"
            ],
            [
             0.7777777777777778,
             "#6ece58"
            ],
            [
             0.8888888888888888,
             "#b5de2b"
            ],
            [
             1,
             "#fde725"
            ]
           ],
           "sequentialminus": [
            [
             0,
             "#440154"
            ],
            [
             0.1111111111111111,
             "#482878"
            ],
            [
             0.2222222222222222,
             "#3e4989"
            ],
            [
             0.3333333333333333,
             "#31688e"
            ],
            [
             0.4444444444444444,
             "#26828e"
            ],
            [
             0.5555555555555556,
             "#1f9e89"
            ],
            [
             0.6666666666666666,
             "#35b779"
            ],
            [
             0.7777777777777778,
             "#6ece58"
            ],
            [
             0.8888888888888888,
             "#b5de2b"
            ],
            [
             1,
             "#fde725"
            ]
           ]
          },
          "colorway": [
           "#1F77B4",
           "#FF7F0E",
           "#2CA02C",
           "#D62728",
           "#9467BD",
           "#8C564B",
           "#E377C2",
           "#7F7F7F",
           "#BCBD22",
           "#17BECF"
          ],
          "font": {
           "color": "rgb(36,36,36)"
          },
          "geo": {
           "bgcolor": "white",
           "lakecolor": "white",
           "landcolor": "white",
           "showlakes": true,
           "showland": true,
           "subunitcolor": "white"
          },
          "hoverlabel": {
           "align": "left"
          },
          "hovermode": "closest",
          "mapbox": {
           "style": "light"
          },
          "paper_bgcolor": "white",
          "plot_bgcolor": "white",
          "polar": {
           "angularaxis": {
            "gridcolor": "rgb(232,232,232)",
            "linecolor": "rgb(36,36,36)",
            "showgrid": false,
            "showline": true,
            "ticks": "outside"
           },
           "bgcolor": "white",
           "radialaxis": {
            "gridcolor": "rgb(232,232,232)",
            "linecolor": "rgb(36,36,36)",
            "showgrid": false,
            "showline": true,
            "ticks": "outside"
           }
          },
          "scene": {
           "xaxis": {
            "backgroundcolor": "white",
            "gridcolor": "rgb(232,232,232)",
            "gridwidth": 2,
            "linecolor": "rgb(36,36,36)",
            "showbackground": true,
            "showgrid": false,
            "showline": true,
            "ticks": "outside",
            "zeroline": false,
            "zerolinecolor": "rgb(36,36,36)"
           },
           "yaxis": {
            "backgroundcolor": "white",
            "gridcolor": "rgb(232,232,232)",
            "gridwidth": 2,
            "linecolor": "rgb(36,36,36)",
            "showbackground": true,
            "showgrid": false,
            "showline": true,
            "ticks": "outside",
            "zeroline": false,
            "zerolinecolor": "rgb(36,36,36)"
           },
           "zaxis": {
            "backgroundcolor": "white",
            "gridcolor": "rgb(232,232,232)",
            "gridwidth": 2,
            "linecolor": "rgb(36,36,36)",
            "showbackground": true,
            "showgrid": false,
            "showline": true,
            "ticks": "outside",
            "zeroline": false,
            "zerolinecolor": "rgb(36,36,36)"
           }
          },
          "shapedefaults": {
           "fillcolor": "black",
           "line": {
            "width": 0
           },
           "opacity": 0.3
          },
          "ternary": {
           "aaxis": {
            "gridcolor": "rgb(232,232,232)",
            "linecolor": "rgb(36,36,36)",
            "showgrid": false,
            "showline": true,
            "ticks": "outside"
           },
           "baxis": {
            "gridcolor": "rgb(232,232,232)",
            "linecolor": "rgb(36,36,36)",
            "showgrid": false,
            "showline": true,
            "ticks": "outside"
           },
           "bgcolor": "white",
           "caxis": {
            "gridcolor": "rgb(232,232,232)",
            "linecolor": "rgb(36,36,36)",
            "showgrid": false,
            "showline": true,
            "ticks": "outside"
           }
          },
          "title": {
           "x": 0.05
          },
          "xaxis": {
           "automargin": true,
           "gridcolor": "rgb(232,232,232)",
           "linecolor": "rgb(36,36,36)",
           "showgrid": false,
           "showline": true,
           "ticks": "outside",
           "title": {
            "standoff": 15
           },
           "zeroline": false,
           "zerolinecolor": "rgb(36,36,36)"
          },
          "yaxis": {
           "automargin": true,
           "gridcolor": "rgb(232,232,232)",
           "linecolor": "rgb(36,36,36)",
           "showgrid": false,
           "showline": true,
           "ticks": "outside",
           "title": {
            "standoff": 15
           },
           "zeroline": false,
           "zerolinecolor": "rgb(36,36,36)"
          }
         }
        },
        "title": {
         "font": {
          "color": "Black",
          "size": 22
         },
         "text": "<b>Topics over Time</b>",
         "x": 0.4,
         "xanchor": "center",
         "y": 0.95,
         "yanchor": "top"
        },
        "width": 1250,
        "xaxis": {
         "showgrid": true
        },
        "yaxis": {
         "showgrid": true,
         "title": {
          "text": "Frequency"
         }
        }
       }
      }
     },
     "metadata": {},
     "output_type": "display_data"
    }
   ],
   "source": [
    "topic_model.visualize_topics_over_time(topics_over_time_eikon, top_n_topics=10)"
   ]
  },
  {
   "cell_type": "code",
   "execution_count": 124,
   "metadata": {},
   "outputs": [
    {
     "data": {
      "application/vnd.plotly.v1+json": {
       "config": {
        "plotlyServerURL": "https://plot.ly"
       },
       "data": [
        {
         "marker": {
          "color": "#D55E00"
         },
         "orientation": "h",
         "type": "bar",
         "x": [
          0.03657960756598032,
          0.03885843660362528,
          0.06135480813729535,
          0.06384931068900658,
          0.08101132826238533
         ],
         "xaxis": "x",
         "y": [
          "in  ",
          "llc  ",
          "inc  ",
          "apple  ",
          "nasdaq  "
         ],
         "yaxis": "y"
        },
        {
         "marker": {
          "color": "#0072B2"
         },
         "orientation": "h",
         "type": "bar",
         "x": [
          0.027960301989366255,
          0.03372299366468483,
          0.03529303426278367,
          0.04046509068261536,
          0.041657128498226594
         ],
         "xaxis": "x2",
         "y": [
          "wall  ",
          "live  ",
          "us  ",
          "markets  ",
          "stocks  "
         ],
         "yaxis": "y2"
        },
        {
         "marker": {
          "color": "#CC79A7"
         },
         "orientation": "h",
         "type": "bar",
         "x": [
          0.025872418983154028,
          0.026857364467166616,
          0.028600479064424405,
          0.030252282705466368,
          0.04884352648607473
         ],
         "xaxis": "x3",
         "y": [
          "the  ",
          "on  ",
          "stocks  ",
          "earnings  ",
          "apple  "
         ],
         "yaxis": "y3"
        },
        {
         "marker": {
          "color": "#E69F00"
         },
         "orientation": "h",
         "type": "bar",
         "x": [
          0.02691108275201568,
          0.027485506801076864,
          0.030597395916680484,
          0.03431759778323342,
          0.034781577415931755
         ],
         "xaxis": "x4",
         "y": [
          "on  ",
          "iphone  ",
          "apple  ",
          "to  ",
          "china  "
         ],
         "yaxis": "y4"
        },
        {
         "marker": {
          "color": "#56B4E9"
         },
         "orientation": "h",
         "type": "bar",
         "x": [
          0.057028028316456716,
          0.06287247158344832,
          0.09384365711604221,
          0.10030518151033041,
          0.13902758167548537
         ],
         "xaxis": "x5",
         "y": [
          "for  ",
          "buy  ",
          "inc  ",
          "apple  ",
          "rating  "
         ],
         "yaxis": "y5"
        },
        {
         "marker": {
          "color": "#009E73"
         },
         "orientation": "h",
         "type": "bar",
         "x": [
          0.06414781376957655,
          0.08320751668251643,
          0.09373074958597333,
          0.09443073678290487,
          0.09533053385203002
         ],
         "xaxis": "x6",
         "y": [
          "analysts  ",
          "apple  ",
          "target  ",
          "price  ",
          "inc  "
         ],
         "yaxis": "y6"
        },
        {
         "marker": {
          "color": "#F0E442"
         },
         "orientation": "h",
         "type": "bar",
         "x": [
          0.030336405685679524,
          0.035209507431952926,
          0.04329462475374451,
          0.04525232616631124,
          0.053820487720797935
         ],
         "xaxis": "x7",
         "y": [
          "apple  ",
          "to  ",
          "antitrust  ",
          "fine  ",
          "eu  "
         ],
         "yaxis": "y7"
        },
        {
         "marker": {
          "color": "#D55E00"
         },
         "orientation": "h",
         "type": "bar",
         "x": [
          0.029445434945518007,
          0.030811555474777468,
          0.03137478832946433,
          0.032070861773751395,
          0.03309519703132038
         ],
         "xaxis": "x8",
         "y": [
          "earnings  ",
          "on  ",
          "samsung  ",
          "apple  ",
          "update  "
         ],
         "yaxis": "y8"
        }
       ],
       "layout": {
        "annotations": [
         {
          "font": {
           "size": 16
          },
          "showarrow": false,
          "text": "Topic 0",
          "x": 0.0875,
          "xanchor": "center",
          "xref": "paper",
          "y": 1,
          "yanchor": "bottom",
          "yref": "paper"
         },
         {
          "font": {
           "size": 16
          },
          "showarrow": false,
          "text": "Topic 1",
          "x": 0.36250000000000004,
          "xanchor": "center",
          "xref": "paper",
          "y": 1,
          "yanchor": "bottom",
          "yref": "paper"
         },
         {
          "font": {
           "size": 16
          },
          "showarrow": false,
          "text": "Topic 2",
          "x": 0.6375000000000001,
          "xanchor": "center",
          "xref": "paper",
          "y": 1,
          "yanchor": "bottom",
          "yref": "paper"
         },
         {
          "font": {
           "size": 16
          },
          "showarrow": false,
          "text": "Topic 3",
          "x": 0.9125,
          "xanchor": "center",
          "xref": "paper",
          "y": 1,
          "yanchor": "bottom",
          "yref": "paper"
         },
         {
          "font": {
           "size": 16
          },
          "showarrow": false,
          "text": "Topic 4",
          "x": 0.0875,
          "xanchor": "center",
          "xref": "paper",
          "y": 0.4,
          "yanchor": "bottom",
          "yref": "paper"
         },
         {
          "font": {
           "size": 16
          },
          "showarrow": false,
          "text": "Topic 5",
          "x": 0.36250000000000004,
          "xanchor": "center",
          "xref": "paper",
          "y": 0.4,
          "yanchor": "bottom",
          "yref": "paper"
         },
         {
          "font": {
           "size": 16
          },
          "showarrow": false,
          "text": "Topic 6",
          "x": 0.6375000000000001,
          "xanchor": "center",
          "xref": "paper",
          "y": 0.4,
          "yanchor": "bottom",
          "yref": "paper"
         },
         {
          "font": {
           "size": 16
          },
          "showarrow": false,
          "text": "Topic 7",
          "x": 0.9125,
          "xanchor": "center",
          "xref": "paper",
          "y": 0.4,
          "yanchor": "bottom",
          "yref": "paper"
         }
        ],
        "height": 500,
        "hoverlabel": {
         "bgcolor": "white",
         "font": {
          "family": "Rockwell",
          "size": 16
         }
        },
        "showlegend": false,
        "template": {
         "data": {
          "bar": [
           {
            "error_x": {
             "color": "#2a3f5f"
            },
            "error_y": {
             "color": "#2a3f5f"
            },
            "marker": {
             "line": {
              "color": "white",
              "width": 0.5
             },
             "pattern": {
              "fillmode": "overlay",
              "size": 10,
              "solidity": 0.2
             }
            },
            "type": "bar"
           }
          ],
          "barpolar": [
           {
            "marker": {
             "line": {
              "color": "white",
              "width": 0.5
             },
             "pattern": {
              "fillmode": "overlay",
              "size": 10,
              "solidity": 0.2
             }
            },
            "type": "barpolar"
           }
          ],
          "carpet": [
           {
            "aaxis": {
             "endlinecolor": "#2a3f5f",
             "gridcolor": "#C8D4E3",
             "linecolor": "#C8D4E3",
             "minorgridcolor": "#C8D4E3",
             "startlinecolor": "#2a3f5f"
            },
            "baxis": {
             "endlinecolor": "#2a3f5f",
             "gridcolor": "#C8D4E3",
             "linecolor": "#C8D4E3",
             "minorgridcolor": "#C8D4E3",
             "startlinecolor": "#2a3f5f"
            },
            "type": "carpet"
           }
          ],
          "choropleth": [
           {
            "colorbar": {
             "outlinewidth": 0,
             "ticks": ""
            },
            "type": "choropleth"
           }
          ],
          "contour": [
           {
            "colorbar": {
             "outlinewidth": 0,
             "ticks": ""
            },
            "colorscale": [
             [
              0,
              "#0d0887"
             ],
             [
              0.1111111111111111,
              "#46039f"
             ],
             [
              0.2222222222222222,
              "#7201a8"
             ],
             [
              0.3333333333333333,
              "#9c179e"
             ],
             [
              0.4444444444444444,
              "#bd3786"
             ],
             [
              0.5555555555555556,
              "#d8576b"
             ],
             [
              0.6666666666666666,
              "#ed7953"
             ],
             [
              0.7777777777777778,
              "#fb9f3a"
             ],
             [
              0.8888888888888888,
              "#fdca26"
             ],
             [
              1,
              "#f0f921"
             ]
            ],
            "type": "contour"
           }
          ],
          "contourcarpet": [
           {
            "colorbar": {
             "outlinewidth": 0,
             "ticks": ""
            },
            "type": "contourcarpet"
           }
          ],
          "heatmap": [
           {
            "colorbar": {
             "outlinewidth": 0,
             "ticks": ""
            },
            "colorscale": [
             [
              0,
              "#0d0887"
             ],
             [
              0.1111111111111111,
              "#46039f"
             ],
             [
              0.2222222222222222,
              "#7201a8"
             ],
             [
              0.3333333333333333,
              "#9c179e"
             ],
             [
              0.4444444444444444,
              "#bd3786"
             ],
             [
              0.5555555555555556,
              "#d8576b"
             ],
             [
              0.6666666666666666,
              "#ed7953"
             ],
             [
              0.7777777777777778,
              "#fb9f3a"
             ],
             [
              0.8888888888888888,
              "#fdca26"
             ],
             [
              1,
              "#f0f921"
             ]
            ],
            "type": "heatmap"
           }
          ],
          "heatmapgl": [
           {
            "colorbar": {
             "outlinewidth": 0,
             "ticks": ""
            },
            "colorscale": [
             [
              0,
              "#0d0887"
             ],
             [
              0.1111111111111111,
              "#46039f"
             ],
             [
              0.2222222222222222,
              "#7201a8"
             ],
             [
              0.3333333333333333,
              "#9c179e"
             ],
             [
              0.4444444444444444,
              "#bd3786"
             ],
             [
              0.5555555555555556,
              "#d8576b"
             ],
             [
              0.6666666666666666,
              "#ed7953"
             ],
             [
              0.7777777777777778,
              "#fb9f3a"
             ],
             [
              0.8888888888888888,
              "#fdca26"
             ],
             [
              1,
              "#f0f921"
             ]
            ],
            "type": "heatmapgl"
           }
          ],
          "histogram": [
           {
            "marker": {
             "pattern": {
              "fillmode": "overlay",
              "size": 10,
              "solidity": 0.2
             }
            },
            "type": "histogram"
           }
          ],
          "histogram2d": [
           {
            "colorbar": {
             "outlinewidth": 0,
             "ticks": ""
            },
            "colorscale": [
             [
              0,
              "#0d0887"
             ],
             [
              0.1111111111111111,
              "#46039f"
             ],
             [
              0.2222222222222222,
              "#7201a8"
             ],
             [
              0.3333333333333333,
              "#9c179e"
             ],
             [
              0.4444444444444444,
              "#bd3786"
             ],
             [
              0.5555555555555556,
              "#d8576b"
             ],
             [
              0.6666666666666666,
              "#ed7953"
             ],
             [
              0.7777777777777778,
              "#fb9f3a"
             ],
             [
              0.8888888888888888,
              "#fdca26"
             ],
             [
              1,
              "#f0f921"
             ]
            ],
            "type": "histogram2d"
           }
          ],
          "histogram2dcontour": [
           {
            "colorbar": {
             "outlinewidth": 0,
             "ticks": ""
            },
            "colorscale": [
             [
              0,
              "#0d0887"
             ],
             [
              0.1111111111111111,
              "#46039f"
             ],
             [
              0.2222222222222222,
              "#7201a8"
             ],
             [
              0.3333333333333333,
              "#9c179e"
             ],
             [
              0.4444444444444444,
              "#bd3786"
             ],
             [
              0.5555555555555556,
              "#d8576b"
             ],
             [
              0.6666666666666666,
              "#ed7953"
             ],
             [
              0.7777777777777778,
              "#fb9f3a"
             ],
             [
              0.8888888888888888,
              "#fdca26"
             ],
             [
              1,
              "#f0f921"
             ]
            ],
            "type": "histogram2dcontour"
           }
          ],
          "mesh3d": [
           {
            "colorbar": {
             "outlinewidth": 0,
             "ticks": ""
            },
            "type": "mesh3d"
           }
          ],
          "parcoords": [
           {
            "line": {
             "colorbar": {
              "outlinewidth": 0,
              "ticks": ""
             }
            },
            "type": "parcoords"
           }
          ],
          "pie": [
           {
            "automargin": true,
            "type": "pie"
           }
          ],
          "scatter": [
           {
            "fillpattern": {
             "fillmode": "overlay",
             "size": 10,
             "solidity": 0.2
            },
            "type": "scatter"
           }
          ],
          "scatter3d": [
           {
            "line": {
             "colorbar": {
              "outlinewidth": 0,
              "ticks": ""
             }
            },
            "marker": {
             "colorbar": {
              "outlinewidth": 0,
              "ticks": ""
             }
            },
            "type": "scatter3d"
           }
          ],
          "scattercarpet": [
           {
            "marker": {
             "colorbar": {
              "outlinewidth": 0,
              "ticks": ""
             }
            },
            "type": "scattercarpet"
           }
          ],
          "scattergeo": [
           {
            "marker": {
             "colorbar": {
              "outlinewidth": 0,
              "ticks": ""
             }
            },
            "type": "scattergeo"
           }
          ],
          "scattergl": [
           {
            "marker": {
             "colorbar": {
              "outlinewidth": 0,
              "ticks": ""
             }
            },
            "type": "scattergl"
           }
          ],
          "scattermapbox": [
           {
            "marker": {
             "colorbar": {
              "outlinewidth": 0,
              "ticks": ""
             }
            },
            "type": "scattermapbox"
           }
          ],
          "scatterpolar": [
           {
            "marker": {
             "colorbar": {
              "outlinewidth": 0,
              "ticks": ""
             }
            },
            "type": "scatterpolar"
           }
          ],
          "scatterpolargl": [
           {
            "marker": {
             "colorbar": {
              "outlinewidth": 0,
              "ticks": ""
             }
            },
            "type": "scatterpolargl"
           }
          ],
          "scatterternary": [
           {
            "marker": {
             "colorbar": {
              "outlinewidth": 0,
              "ticks": ""
             }
            },
            "type": "scatterternary"
           }
          ],
          "surface": [
           {
            "colorbar": {
             "outlinewidth": 0,
             "ticks": ""
            },
            "colorscale": [
             [
              0,
              "#0d0887"
             ],
             [
              0.1111111111111111,
              "#46039f"
             ],
             [
              0.2222222222222222,
              "#7201a8"
             ],
             [
              0.3333333333333333,
              "#9c179e"
             ],
             [
              0.4444444444444444,
              "#bd3786"
             ],
             [
              0.5555555555555556,
              "#d8576b"
             ],
             [
              0.6666666666666666,
              "#ed7953"
             ],
             [
              0.7777777777777778,
              "#fb9f3a"
             ],
             [
              0.8888888888888888,
              "#fdca26"
             ],
             [
              1,
              "#f0f921"
             ]
            ],
            "type": "surface"
           }
          ],
          "table": [
           {
            "cells": {
             "fill": {
              "color": "#EBF0F8"
             },
             "line": {
              "color": "white"
             }
            },
            "header": {
             "fill": {
              "color": "#C8D4E3"
             },
             "line": {
              "color": "white"
             }
            },
            "type": "table"
           }
          ]
         },
         "layout": {
          "annotationdefaults": {
           "arrowcolor": "#2a3f5f",
           "arrowhead": 0,
           "arrowwidth": 1
          },
          "autotypenumbers": "strict",
          "coloraxis": {
           "colorbar": {
            "outlinewidth": 0,
            "ticks": ""
           }
          },
          "colorscale": {
           "diverging": [
            [
             0,
             "#8e0152"
            ],
            [
             0.1,
             "#c51b7d"
            ],
            [
             0.2,
             "#de77ae"
            ],
            [
             0.3,
             "#f1b6da"
            ],
            [
             0.4,
             "#fde0ef"
            ],
            [
             0.5,
             "#f7f7f7"
            ],
            [
             0.6,
             "#e6f5d0"
            ],
            [
             0.7,
             "#b8e186"
            ],
            [
             0.8,
             "#7fbc41"
            ],
            [
             0.9,
             "#4d9221"
            ],
            [
             1,
             "#276419"
            ]
           ],
           "sequential": [
            [
             0,
             "#0d0887"
            ],
            [
             0.1111111111111111,
             "#46039f"
            ],
            [
             0.2222222222222222,
             "#7201a8"
            ],
            [
             0.3333333333333333,
             "#9c179e"
            ],
            [
             0.4444444444444444,
             "#bd3786"
            ],
            [
             0.5555555555555556,
             "#d8576b"
            ],
            [
             0.6666666666666666,
             "#ed7953"
            ],
            [
             0.7777777777777778,
             "#fb9f3a"
            ],
            [
             0.8888888888888888,
             "#fdca26"
            ],
            [
             1,
             "#f0f921"
            ]
           ],
           "sequentialminus": [
            [
             0,
             "#0d0887"
            ],
            [
             0.1111111111111111,
             "#46039f"
            ],
            [
             0.2222222222222222,
             "#7201a8"
            ],
            [
             0.3333333333333333,
             "#9c179e"
            ],
            [
             0.4444444444444444,
             "#bd3786"
            ],
            [
             0.5555555555555556,
             "#d8576b"
            ],
            [
             0.6666666666666666,
             "#ed7953"
            ],
            [
             0.7777777777777778,
             "#fb9f3a"
            ],
            [
             0.8888888888888888,
             "#fdca26"
            ],
            [
             1,
             "#f0f921"
            ]
           ]
          },
          "colorway": [
           "#636efa",
           "#EF553B",
           "#00cc96",
           "#ab63fa",
           "#FFA15A",
           "#19d3f3",
           "#FF6692",
           "#B6E880",
           "#FF97FF",
           "#FECB52"
          ],
          "font": {
           "color": "#2a3f5f"
          },
          "geo": {
           "bgcolor": "white",
           "lakecolor": "white",
           "landcolor": "white",
           "showlakes": true,
           "showland": true,
           "subunitcolor": "#C8D4E3"
          },
          "hoverlabel": {
           "align": "left"
          },
          "hovermode": "closest",
          "mapbox": {
           "style": "light"
          },
          "paper_bgcolor": "white",
          "plot_bgcolor": "white",
          "polar": {
           "angularaxis": {
            "gridcolor": "#EBF0F8",
            "linecolor": "#EBF0F8",
            "ticks": ""
           },
           "bgcolor": "white",
           "radialaxis": {
            "gridcolor": "#EBF0F8",
            "linecolor": "#EBF0F8",
            "ticks": ""
           }
          },
          "scene": {
           "xaxis": {
            "backgroundcolor": "white",
            "gridcolor": "#DFE8F3",
            "gridwidth": 2,
            "linecolor": "#EBF0F8",
            "showbackground": true,
            "ticks": "",
            "zerolinecolor": "#EBF0F8"
           },
           "yaxis": {
            "backgroundcolor": "white",
            "gridcolor": "#DFE8F3",
            "gridwidth": 2,
            "linecolor": "#EBF0F8",
            "showbackground": true,
            "ticks": "",
            "zerolinecolor": "#EBF0F8"
           },
           "zaxis": {
            "backgroundcolor": "white",
            "gridcolor": "#DFE8F3",
            "gridwidth": 2,
            "linecolor": "#EBF0F8",
            "showbackground": true,
            "ticks": "",
            "zerolinecolor": "#EBF0F8"
           }
          },
          "shapedefaults": {
           "line": {
            "color": "#2a3f5f"
           }
          },
          "ternary": {
           "aaxis": {
            "gridcolor": "#DFE8F3",
            "linecolor": "#A2B1C6",
            "ticks": ""
           },
           "baxis": {
            "gridcolor": "#DFE8F3",
            "linecolor": "#A2B1C6",
            "ticks": ""
           },
           "bgcolor": "white",
           "caxis": {
            "gridcolor": "#DFE8F3",
            "linecolor": "#A2B1C6",
            "ticks": ""
           }
          },
          "title": {
           "x": 0.05
          },
          "xaxis": {
           "automargin": true,
           "gridcolor": "#EBF0F8",
           "linecolor": "#EBF0F8",
           "ticks": "",
           "title": {
            "standoff": 15
           },
           "zerolinecolor": "#EBF0F8",
           "zerolinewidth": 2
          },
          "yaxis": {
           "automargin": true,
           "gridcolor": "#EBF0F8",
           "linecolor": "#EBF0F8",
           "ticks": "",
           "title": {
            "standoff": 15
           },
           "zerolinecolor": "#EBF0F8",
           "zerolinewidth": 2
          }
         }
        },
        "title": {
         "font": {
          "color": "Black",
          "size": 22
         },
         "text": "Topic Word Scores",
         "x": 0.5,
         "xanchor": "center",
         "yanchor": "top"
        },
        "width": 1000,
        "xaxis": {
         "anchor": "y",
         "domain": [
          0,
          0.175
         ],
         "showgrid": true
        },
        "xaxis2": {
         "anchor": "y2",
         "domain": [
          0.275,
          0.45
         ],
         "showgrid": true
        },
        "xaxis3": {
         "anchor": "y3",
         "domain": [
          0.55,
          0.7250000000000001
         ],
         "showgrid": true
        },
        "xaxis4": {
         "anchor": "y4",
         "domain": [
          0.825,
          1
         ],
         "showgrid": true
        },
        "xaxis5": {
         "anchor": "y5",
         "domain": [
          0,
          0.175
         ],
         "showgrid": true
        },
        "xaxis6": {
         "anchor": "y6",
         "domain": [
          0.275,
          0.45
         ],
         "showgrid": true
        },
        "xaxis7": {
         "anchor": "y7",
         "domain": [
          0.55,
          0.7250000000000001
         ],
         "showgrid": true
        },
        "xaxis8": {
         "anchor": "y8",
         "domain": [
          0.825,
          1
         ],
         "showgrid": true
        },
        "yaxis": {
         "anchor": "x",
         "domain": [
          0.6000000000000001,
          1
         ],
         "showgrid": true
        },
        "yaxis2": {
         "anchor": "x2",
         "domain": [
          0.6000000000000001,
          1
         ],
         "showgrid": true
        },
        "yaxis3": {
         "anchor": "x3",
         "domain": [
          0.6000000000000001,
          1
         ],
         "showgrid": true
        },
        "yaxis4": {
         "anchor": "x4",
         "domain": [
          0.6000000000000001,
          1
         ],
         "showgrid": true
        },
        "yaxis5": {
         "anchor": "x5",
         "domain": [
          0,
          0.4
         ],
         "showgrid": true
        },
        "yaxis6": {
         "anchor": "x6",
         "domain": [
          0,
          0.4
         ],
         "showgrid": true
        },
        "yaxis7": {
         "anchor": "x7",
         "domain": [
          0,
          0.4
         ],
         "showgrid": true
        },
        "yaxis8": {
         "anchor": "x8",
         "domain": [
          0,
          0.4
         ],
         "showgrid": true
        }
       }
      }
     },
     "metadata": {},
     "output_type": "display_data"
    }
   ],
   "source": [
    "topic_model.visualize_barchart()"
   ]
  },
  {
   "cell_type": "code",
   "execution_count": 116,
   "metadata": {},
   "outputs": [
    {
     "name": "stdout",
     "output_type": "stream",
     "text": [
      "    Topic  Count\n",
      "0      -1    695\n",
      "1       0    320\n",
      "2       1    151\n",
      "3       2    140\n",
      "4       3     49\n",
      "5       4     32\n",
      "6       5     30\n",
      "7       6     30\n",
      "8       7     28\n",
      "9       8     27\n",
      "10      9     25\n",
      "11     10     22\n",
      "12     11     16\n",
      "13     12     12\n",
      "14     13     11\n",
      "15     14     11\n",
      "16     15     10\n"
     ]
    }
   ],
   "source": [
    "topic_freq = topic_model.get_topic_freq()\n",
    "print(topic_freq)"
   ]
  },
  {
   "attachments": {},
   "cell_type": "markdown",
   "metadata": {},
   "source": [
    "---\n",
    "### LDA Method: "
   ]
  },
  {
   "cell_type": "code",
   "execution_count": 23,
   "metadata": {},
   "outputs": [],
   "source": [
    "import pandas as pd\n",
    "from transformers import BertTokenizer, BertModel\n",
    "from sklearn.feature_extraction.text import CountVectorizer\n",
    "from sklearn.decomposition import LatentDirichletAllocation"
   ]
  },
  {
   "cell_type": "code",
   "execution_count": 54,
   "metadata": {},
   "outputs": [],
   "source": [
    "moderna_eikon_topics_df = eikon_topics_df[eikon_topics_df[\"company\"] == \"moderna\"]"
   ]
  },
  {
   "cell_type": "code",
   "execution_count": 55,
   "metadata": {},
   "outputs": [
    {
     "data": {
      "application/vnd.jupyter.widget-view+json": {
       "model_id": "55ec4d3c3ef54c759eb77082c4019a15",
       "version_major": 2,
       "version_minor": 0
      },
      "text/plain": [
       "VBox(children=(HBox(children=(IntProgress(value=0, description='0.00%', max=77), Label(value='0 / 77'))), HBox…"
      ]
     },
     "metadata": {},
     "output_type": "display_data"
    }
   ],
   "source": [
    "# Tokenize the tweets using BERT tokenizer\n",
    "tokenizer = BertTokenizer.from_pretrained('bert-base-uncased')\n",
    "moderna_eikon_topics_df['tokens'] = moderna_eikon_topics_df['text'].parallel_apply(lambda x: tokenizer.tokenize(x))"
   ]
  },
  {
   "cell_type": "code",
   "execution_count": 57,
   "metadata": {},
   "outputs": [
    {
     "name": "stderr",
     "output_type": "stream",
     "text": [
      "Some weights of the model checkpoint at bert-base-uncased were not used when initializing BertModel: ['cls.predictions.transform.LayerNorm.bias', 'cls.predictions.decoder.weight', 'cls.seq_relationship.bias', 'cls.predictions.bias', 'cls.predictions.transform.dense.bias', 'cls.predictions.transform.LayerNorm.weight', 'cls.seq_relationship.weight', 'cls.predictions.transform.dense.weight']\n",
      "- This IS expected if you are initializing BertModel from the checkpoint of a model trained on another task or with another architecture (e.g. initializing a BertForSequenceClassification model from a BertForPreTraining model).\n",
      "- This IS NOT expected if you are initializing BertModel from the checkpoint of a model that you expect to be exactly identical (initializing a BertForSequenceClassification model from a BertForSequenceClassification model).\n"
     ]
    }
   ],
   "source": [
    "model = BertModel.from_pretrained('bert-base-uncased')"
   ]
  },
  {
   "cell_type": "code",
   "execution_count": 60,
   "metadata": {},
   "outputs": [
    {
     "name": "stderr",
     "output_type": "stream",
     "text": [
      "Some weights of the model checkpoint at bert-base-uncased were not used when initializing BertModel: ['cls.predictions.transform.LayerNorm.bias', 'cls.predictions.decoder.weight', 'cls.seq_relationship.bias', 'cls.predictions.bias', 'cls.predictions.transform.dense.bias', 'cls.predictions.transform.LayerNorm.weight', 'cls.seq_relationship.weight', 'cls.predictions.transform.dense.weight']\n",
      "- This IS expected if you are initializing BertModel from the checkpoint of a model trained on another task or with another architecture (e.g. initializing a BertForSequenceClassification model from a BertForPreTraining model).\n",
      "- This IS NOT expected if you are initializing BertModel from the checkpoint of a model that you expect to be exactly identical (initializing a BertForSequenceClassification model from a BertForSequenceClassification model).\n"
     ]
    }
   ],
   "source": [
    "model = BertModel.from_pretrained('bert-base-uncased')\n",
    "\n",
    "def create_embeddings(text):\n",
    "        encoded_tweets = []\n",
    "        inputs = tokenizer.encode(text, add_special_tokens=True, truncation=True, padding='max_length', max_length=512)\n",
    "        inputs = torch.tensor(inputs).unsqueeze(0)  # Convert to tensor\n",
    "        outputs = model(inputs)\n",
    "        encoded_tweets.append(outputs.pooler_output.tolist())\n",
    "        return encoded_tweets\n"
   ]
  },
  {
   "cell_type": "code",
   "execution_count": 62,
   "metadata": {},
   "outputs": [
    {
     "data": {
      "application/vnd.jupyter.widget-view+json": {
       "model_id": "11e36ea6eb3a4e1e81b308e78e0e0af7",
       "version_major": 2,
       "version_minor": 0
      },
      "text/plain": [
       "VBox(children=(HBox(children=(IntProgress(value=0, description='0.00%', max=77), Label(value='0 / 77'))), HBox…"
      ]
     },
     "metadata": {},
     "output_type": "display_data"
    }
   ],
   "source": [
    "moderna_eikon_topics_df[\"bert_embeddings\"] = moderna_eikon_topics_df['tokens'].parallel_apply(lambda x: create_embeddings(x))"
   ]
  },
  {
   "cell_type": "code",
   "execution_count": 64,
   "metadata": {},
   "outputs": [
    {
     "data": {
      "text/html": [
       "<div>\n",
       "<style scoped>\n",
       "    .dataframe tbody tr th:only-of-type {\n",
       "        vertical-align: middle;\n",
       "    }\n",
       "\n",
       "    .dataframe tbody tr th {\n",
       "        vertical-align: top;\n",
       "    }\n",
       "\n",
       "    .dataframe thead th {\n",
       "        text-align: right;\n",
       "    }\n",
       "</style>\n",
       "<table border=\"1\" class=\"dataframe\">\n",
       "  <thead>\n",
       "    <tr style=\"text-align: right;\">\n",
       "      <th></th>\n",
       "      <th>date</th>\n",
       "      <th>company</th>\n",
       "      <th>text</th>\n",
       "      <th>cleaned_text</th>\n",
       "      <th>tokens</th>\n",
       "      <th>bert_embeddings</th>\n",
       "    </tr>\n",
       "  </thead>\n",
       "  <tbody>\n",
       "    <tr>\n",
       "      <th>946</th>\n",
       "      <td>2018-11-28</td>\n",
       "      <td>moderna</td>\n",
       "      <td>Biotech company Moderna expects to raise up to...</td>\n",
       "      <td>biotech company moderna expects to raise up to...</td>\n",
       "      <td>[bio, ##tech, company, modern, ##a, expects, t...</td>\n",
       "      <td>[[[-0.15786303579807281, -0.5081111788749695, ...</td>\n",
       "    </tr>\n",
       "    <tr>\n",
       "      <th>949</th>\n",
       "      <td>2018-11-29</td>\n",
       "      <td>moderna</td>\n",
       "      <td>UPDATE 1-Biotech company Moderna expects to ra...</td>\n",
       "      <td>update 1 biotech company moderna expects to ra...</td>\n",
       "      <td>[update, 1, -, bio, ##tech, company, modern, #...</td>\n",
       "      <td>[[[-0.21495932340621948, -0.5278425812721252, ...</td>\n",
       "    </tr>\n",
       "    <tr>\n",
       "      <th>960</th>\n",
       "      <td>2018-12-06</td>\n",
       "      <td>moderna</td>\n",
       "      <td>EXCLUSIVE-Moderna mulls increasing largest bio...</td>\n",
       "      <td>exclusive moderna mulls increasing largest bio...</td>\n",
       "      <td>[exclusive, -, modern, ##a, mu, ##lls, increas...</td>\n",
       "      <td>[[[-0.12667618691921234, -0.4134136736392975, ...</td>\n",
       "    </tr>\n",
       "    <tr>\n",
       "      <th>963</th>\n",
       "      <td>2018-12-07</td>\n",
       "      <td>moderna</td>\n",
       "      <td>Moderna braves market jitters with upsized IPO...</td>\n",
       "      <td>moderna braves market jitters with upsized ipo...</td>\n",
       "      <td>[modern, ##a, braves, market, ji, ##tters, wit...</td>\n",
       "      <td>[[[-0.42688554525375366, -0.6361693739891052, ...</td>\n",
       "    </tr>\n",
       "    <tr>\n",
       "      <th>966</th>\n",
       "      <td>2018-12-10</td>\n",
       "      <td>moderna</td>\n",
       "      <td>CORRECTED-BREAKINGVIEWS-Uber and Lyft race to ...</td>\n",
       "      <td>corrected uber and lyft race to get through op...</td>\n",
       "      <td>[corrected, -, breaking, ##view, ##s, -, uber,...</td>\n",
       "      <td>[[[-0.1000707596540451, -0.4349295198917389, -...</td>\n",
       "    </tr>\n",
       "    <tr>\n",
       "      <th>...</th>\n",
       "      <td>...</td>\n",
       "      <td>...</td>\n",
       "      <td>...</td>\n",
       "      <td>...</td>\n",
       "      <td>...</td>\n",
       "      <td>...</td>\n",
       "    </tr>\n",
       "    <tr>\n",
       "      <th>3917</th>\n",
       "      <td>2023-04-03</td>\n",
       "      <td>moderna</td>\n",
       "      <td>Insider Trading: Chief Executive Officer, Banc...</td>\n",
       "      <td>insider trading chief executive officer sells ...</td>\n",
       "      <td>[insider, trading, :, chief, executive, office...</td>\n",
       "      <td>[[[-0.4395850896835327, -0.6473029851913452, -...</td>\n",
       "    </tr>\n",
       "    <tr>\n",
       "      <th>3920</th>\n",
       "      <td>2023-04-04</td>\n",
       "      <td>moderna</td>\n",
       "      <td>FDA poised to authorize second Omicron COVID b...</td>\n",
       "      <td>fda poised to authorize second omicron covid b...</td>\n",
       "      <td>[fda, poised, to, author, ##ize, second, om, #...</td>\n",
       "      <td>[[[-0.18135827779769897, -0.502711832523346, -...</td>\n",
       "    </tr>\n",
       "    <tr>\n",
       "      <th>3923</th>\n",
       "      <td>2023-04-05</td>\n",
       "      <td>moderna</td>\n",
       "      <td>1,304 Shares in Moderna, Inc. (NASDAQ:MRNA) Ac...</td>\n",
       "      <td>1,304 shares in moderna inc nasdaq moderna acq...</td>\n",
       "      <td>[1, ,, 304, shares, in, modern, ##a, ,, inc, ....</td>\n",
       "      <td>[[[-0.22266535460948944, -0.539493203163147, -...</td>\n",
       "    </tr>\n",
       "    <tr>\n",
       "      <th>3926</th>\n",
       "      <td>2023-04-06</td>\n",
       "      <td>moderna</td>\n",
       "      <td>Moderna (MRNA) Dips More Than Broader Markets:...</td>\n",
       "      <td>dips more than broader markets what you should...</td>\n",
       "      <td>[modern, ##a, (, mrna, ), dip, ##s, more, than...</td>\n",
       "      <td>[[[-0.6368915438652039, -0.7150578498840332, -...</td>\n",
       "    </tr>\n",
       "    <tr>\n",
       "      <th>3929</th>\n",
       "      <td>2023-04-07</td>\n",
       "      <td>moderna</td>\n",
       "      <td>Koshinski Asset Management Inc. Acquires Share...</td>\n",
       "      <td>asset management inc acquires shares of 1,185 ...</td>\n",
       "      <td>[ko, ##shin, ##ski, asset, management, inc, .,...</td>\n",
       "      <td>[[[-0.19042862951755524, -0.5375064015388489, ...</td>\n",
       "    </tr>\n",
       "  </tbody>\n",
       "</table>\n",
       "<p>770 rows × 6 columns</p>\n",
       "</div>"
      ],
      "text/plain": [
       "            date  company                                               text  \\\n",
       "946   2018-11-28  moderna  Biotech company Moderna expects to raise up to...   \n",
       "949   2018-11-29  moderna  UPDATE 1-Biotech company Moderna expects to ra...   \n",
       "960   2018-12-06  moderna  EXCLUSIVE-Moderna mulls increasing largest bio...   \n",
       "963   2018-12-07  moderna  Moderna braves market jitters with upsized IPO...   \n",
       "966   2018-12-10  moderna  CORRECTED-BREAKINGVIEWS-Uber and Lyft race to ...   \n",
       "...          ...      ...                                                ...   \n",
       "3917  2023-04-03  moderna  Insider Trading: Chief Executive Officer, Banc...   \n",
       "3920  2023-04-04  moderna  FDA poised to authorize second Omicron COVID b...   \n",
       "3923  2023-04-05  moderna  1,304 Shares in Moderna, Inc. (NASDAQ:MRNA) Ac...   \n",
       "3926  2023-04-06  moderna  Moderna (MRNA) Dips More Than Broader Markets:...   \n",
       "3929  2023-04-07  moderna  Koshinski Asset Management Inc. Acquires Share...   \n",
       "\n",
       "                                           cleaned_text  \\\n",
       "946   biotech company moderna expects to raise up to...   \n",
       "949   update 1 biotech company moderna expects to ra...   \n",
       "960   exclusive moderna mulls increasing largest bio...   \n",
       "963   moderna braves market jitters with upsized ipo...   \n",
       "966   corrected uber and lyft race to get through op...   \n",
       "...                                                 ...   \n",
       "3917  insider trading chief executive officer sells ...   \n",
       "3920  fda poised to authorize second omicron covid b...   \n",
       "3923  1,304 shares in moderna inc nasdaq moderna acq...   \n",
       "3926  dips more than broader markets what you should...   \n",
       "3929  asset management inc acquires shares of 1,185 ...   \n",
       "\n",
       "                                                 tokens  \\\n",
       "946   [bio, ##tech, company, modern, ##a, expects, t...   \n",
       "949   [update, 1, -, bio, ##tech, company, modern, #...   \n",
       "960   [exclusive, -, modern, ##a, mu, ##lls, increas...   \n",
       "963   [modern, ##a, braves, market, ji, ##tters, wit...   \n",
       "966   [corrected, -, breaking, ##view, ##s, -, uber,...   \n",
       "...                                                 ...   \n",
       "3917  [insider, trading, :, chief, executive, office...   \n",
       "3920  [fda, poised, to, author, ##ize, second, om, #...   \n",
       "3923  [1, ,, 304, shares, in, modern, ##a, ,, inc, ....   \n",
       "3926  [modern, ##a, (, mrna, ), dip, ##s, more, than...   \n",
       "3929  [ko, ##shin, ##ski, asset, management, inc, .,...   \n",
       "\n",
       "                                        bert_embeddings  \n",
       "946   [[[-0.15786303579807281, -0.5081111788749695, ...  \n",
       "949   [[[-0.21495932340621948, -0.5278425812721252, ...  \n",
       "960   [[[-0.12667618691921234, -0.4134136736392975, ...  \n",
       "963   [[[-0.42688554525375366, -0.6361693739891052, ...  \n",
       "966   [[[-0.1000707596540451, -0.4349295198917389, -...  \n",
       "...                                                 ...  \n",
       "3917  [[[-0.4395850896835327, -0.6473029851913452, -...  \n",
       "3920  [[[-0.18135827779769897, -0.502711832523346, -...  \n",
       "3923  [[[-0.22266535460948944, -0.539493203163147, -...  \n",
       "3926  [[[-0.6368915438652039, -0.7150578498840332, -...  \n",
       "3929  [[[-0.19042862951755524, -0.5375064015388489, ...  \n",
       "\n",
       "[770 rows x 6 columns]"
      ]
     },
     "execution_count": 64,
     "metadata": {},
     "output_type": "execute_result"
    }
   ],
   "source": [
    "moderna_eikon_topics_df"
   ]
  },
  {
   "cell_type": "code",
   "execution_count": 66,
   "metadata": {},
   "outputs": [
    {
     "ename": "AttributeError",
     "evalue": "'CountVectorizer' object has no attribute 'get_feature_names'",
     "output_type": "error",
     "traceback": [
      "\u001b[0;31m---------------------------------------------------------------------------\u001b[0m",
      "\u001b[0;31mAttributeError\u001b[0m                            Traceback (most recent call last)",
      "Cell \u001b[0;32mIn[66], line 6\u001b[0m\n\u001b[1;32m      4\u001b[0m vectorizer \u001b[39m=\u001b[39m CountVectorizer()\n\u001b[1;32m      5\u001b[0m X \u001b[39m=\u001b[39m vectorizer\u001b[39m.\u001b[39mfit_transform(moderna_eikon_topics_df[\u001b[39m'\u001b[39m\u001b[39mcleaned_text\u001b[39m\u001b[39m'\u001b[39m])\n\u001b[0;32m----> 6\u001b[0m feature_names \u001b[39m=\u001b[39m vectorizer\u001b[39m.\u001b[39;49mget_feature_names()\n\u001b[1;32m      7\u001b[0m lda_model \u001b[39m=\u001b[39m LatentDirichletAllocation(n_components\u001b[39m=\u001b[39mnum_topics)\n\u001b[1;32m      8\u001b[0m lda_model\u001b[39m.\u001b[39mfit(X)\n",
      "\u001b[0;31mAttributeError\u001b[0m: 'CountVectorizer' object has no attribute 'get_feature_names'"
     ]
    }
   ],
   "source": [
    "# Apply BERT for topic modeling using LDA\n",
    "num_topics = 5  # Number of topics to extract\n",
    "num_words = 10  # Number of words per topic\n",
    "vectorizer = CountVectorizer()\n",
    "X = vectorizer.fit_transform(moderna_eikon_topics_df['cleaned_text'])\n",
    "feature_names = vectorizer.get_feature_names()\n",
    "lda_model = LatentDirichletAllocation(n_components=num_topics)\n",
    "lda_model.fit(X)\n",
    "\n",
    "# Assign topics to each tweet\n",
    "topic_columns = []\n",
    "for i in range(num_topics):\n",
    "    topic_column = f\"topic_{i}\"\n",
    "    topic_columns.append(topic_column)\n",
    "    moderna_eikon_topics_df[topic_column] = 0\n",
    "topics = lda_model.transform(X)\n",
    "moderna_eikon_topics_df[topic_columns] = topics\n",
    "\n",
    "# Convert topics into features (binary values)\n",
    "df_topics = moderna_eikon_topics_df[topic_columns].applymap(lambda x: 1 if x > 0.5 else 0)\n"
   ]
  },
  {
   "cell_type": "markdown",
   "metadata": {},
   "source": []
  }
 ],
 "metadata": {
  "kernelspec": {
   "display_name": "tensorflow",
   "language": "python",
   "name": "python3"
  },
  "language_info": {
   "codemirror_mode": {
    "name": "ipython",
    "version": 3
   },
   "file_extension": ".py",
   "mimetype": "text/x-python",
   "name": "python",
   "nbconvert_exporter": "python",
   "pygments_lexer": "ipython3",
   "version": "3.10.9"
  },
  "orig_nbformat": 4
 },
 "nbformat": 4,
 "nbformat_minor": 2
}
